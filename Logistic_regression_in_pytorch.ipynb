{
  "nbformat": 4,
  "nbformat_minor": 0,
  "metadata": {
    "colab": {
      "provenance": [],
      "authorship_tag": "ABX9TyPCfLbL8CRQoXi6hAKe5zKh",
      "include_colab_link": true
    },
    "kernelspec": {
      "name": "python3",
      "display_name": "Python 3"
    },
    "language_info": {
      "name": "python"
    },
    "widgets": {
      "application/vnd.jupyter.widget-state+json": {
        "69d84cbf97a34a839780d2722245d1f2": {
          "model_module": "@jupyter-widgets/controls",
          "model_name": "HBoxModel",
          "model_module_version": "1.5.0",
          "state": {
            "_dom_classes": [],
            "_model_module": "@jupyter-widgets/controls",
            "_model_module_version": "1.5.0",
            "_model_name": "HBoxModel",
            "_view_count": null,
            "_view_module": "@jupyter-widgets/controls",
            "_view_module_version": "1.5.0",
            "_view_name": "HBoxView",
            "box_style": "",
            "children": [
              "IPY_MODEL_cba0c9fcb46e4d249d2ea154fc1df671",
              "IPY_MODEL_f8312138a0e94c388f7b51329b8f3651",
              "IPY_MODEL_3f0e5984405d40b09d48e61acc51fb06"
            ],
            "layout": "IPY_MODEL_d31085300b9348b6908dcc941448c8b5"
          }
        },
        "cba0c9fcb46e4d249d2ea154fc1df671": {
          "model_module": "@jupyter-widgets/controls",
          "model_name": "HTMLModel",
          "model_module_version": "1.5.0",
          "state": {
            "_dom_classes": [],
            "_model_module": "@jupyter-widgets/controls",
            "_model_module_version": "1.5.0",
            "_model_name": "HTMLModel",
            "_view_count": null,
            "_view_module": "@jupyter-widgets/controls",
            "_view_module_version": "1.5.0",
            "_view_name": "HTMLView",
            "description": "",
            "description_tooltip": null,
            "layout": "IPY_MODEL_eb173bc210e54cea88c6c4770d6aa08a",
            "placeholder": "​",
            "style": "IPY_MODEL_869983650a8a41c9a9939cd7ddeb6faa",
            "value": "100%"
          }
        },
        "f8312138a0e94c388f7b51329b8f3651": {
          "model_module": "@jupyter-widgets/controls",
          "model_name": "FloatProgressModel",
          "model_module_version": "1.5.0",
          "state": {
            "_dom_classes": [],
            "_model_module": "@jupyter-widgets/controls",
            "_model_module_version": "1.5.0",
            "_model_name": "FloatProgressModel",
            "_view_count": null,
            "_view_module": "@jupyter-widgets/controls",
            "_view_module_version": "1.5.0",
            "_view_name": "ProgressView",
            "bar_style": "success",
            "description": "",
            "description_tooltip": null,
            "layout": "IPY_MODEL_99a9914a39da481cb3ba2608ea82c282",
            "max": 600,
            "min": 0,
            "orientation": "horizontal",
            "style": "IPY_MODEL_2541b9d1363a42eeb80f6c8ffce9ace5",
            "value": 600
          }
        },
        "3f0e5984405d40b09d48e61acc51fb06": {
          "model_module": "@jupyter-widgets/controls",
          "model_name": "HTMLModel",
          "model_module_version": "1.5.0",
          "state": {
            "_dom_classes": [],
            "_model_module": "@jupyter-widgets/controls",
            "_model_module_version": "1.5.0",
            "_model_name": "HTMLModel",
            "_view_count": null,
            "_view_module": "@jupyter-widgets/controls",
            "_view_module_version": "1.5.0",
            "_view_name": "HTMLView",
            "description": "",
            "description_tooltip": null,
            "layout": "IPY_MODEL_a09c9c8406004c2c869058ca8222c643",
            "placeholder": "​",
            "style": "IPY_MODEL_556e2a46fbc14dc1958ec7e0dc4387cb",
            "value": " 600/600 [00:10&lt;00:00, 63.01it/s]"
          }
        },
        "d31085300b9348b6908dcc941448c8b5": {
          "model_module": "@jupyter-widgets/base",
          "model_name": "LayoutModel",
          "model_module_version": "1.2.0",
          "state": {
            "_model_module": "@jupyter-widgets/base",
            "_model_module_version": "1.2.0",
            "_model_name": "LayoutModel",
            "_view_count": null,
            "_view_module": "@jupyter-widgets/base",
            "_view_module_version": "1.2.0",
            "_view_name": "LayoutView",
            "align_content": null,
            "align_items": null,
            "align_self": null,
            "border": null,
            "bottom": null,
            "display": null,
            "flex": null,
            "flex_flow": null,
            "grid_area": null,
            "grid_auto_columns": null,
            "grid_auto_flow": null,
            "grid_auto_rows": null,
            "grid_column": null,
            "grid_gap": null,
            "grid_row": null,
            "grid_template_areas": null,
            "grid_template_columns": null,
            "grid_template_rows": null,
            "height": null,
            "justify_content": null,
            "justify_items": null,
            "left": null,
            "margin": null,
            "max_height": null,
            "max_width": null,
            "min_height": null,
            "min_width": null,
            "object_fit": null,
            "object_position": null,
            "order": null,
            "overflow": null,
            "overflow_x": null,
            "overflow_y": null,
            "padding": null,
            "right": null,
            "top": null,
            "visibility": null,
            "width": null
          }
        },
        "eb173bc210e54cea88c6c4770d6aa08a": {
          "model_module": "@jupyter-widgets/base",
          "model_name": "LayoutModel",
          "model_module_version": "1.2.0",
          "state": {
            "_model_module": "@jupyter-widgets/base",
            "_model_module_version": "1.2.0",
            "_model_name": "LayoutModel",
            "_view_count": null,
            "_view_module": "@jupyter-widgets/base",
            "_view_module_version": "1.2.0",
            "_view_name": "LayoutView",
            "align_content": null,
            "align_items": null,
            "align_self": null,
            "border": null,
            "bottom": null,
            "display": null,
            "flex": null,
            "flex_flow": null,
            "grid_area": null,
            "grid_auto_columns": null,
            "grid_auto_flow": null,
            "grid_auto_rows": null,
            "grid_column": null,
            "grid_gap": null,
            "grid_row": null,
            "grid_template_areas": null,
            "grid_template_columns": null,
            "grid_template_rows": null,
            "height": null,
            "justify_content": null,
            "justify_items": null,
            "left": null,
            "margin": null,
            "max_height": null,
            "max_width": null,
            "min_height": null,
            "min_width": null,
            "object_fit": null,
            "object_position": null,
            "order": null,
            "overflow": null,
            "overflow_x": null,
            "overflow_y": null,
            "padding": null,
            "right": null,
            "top": null,
            "visibility": null,
            "width": null
          }
        },
        "869983650a8a41c9a9939cd7ddeb6faa": {
          "model_module": "@jupyter-widgets/controls",
          "model_name": "DescriptionStyleModel",
          "model_module_version": "1.5.0",
          "state": {
            "_model_module": "@jupyter-widgets/controls",
            "_model_module_version": "1.5.0",
            "_model_name": "DescriptionStyleModel",
            "_view_count": null,
            "_view_module": "@jupyter-widgets/base",
            "_view_module_version": "1.2.0",
            "_view_name": "StyleView",
            "description_width": ""
          }
        },
        "99a9914a39da481cb3ba2608ea82c282": {
          "model_module": "@jupyter-widgets/base",
          "model_name": "LayoutModel",
          "model_module_version": "1.2.0",
          "state": {
            "_model_module": "@jupyter-widgets/base",
            "_model_module_version": "1.2.0",
            "_model_name": "LayoutModel",
            "_view_count": null,
            "_view_module": "@jupyter-widgets/base",
            "_view_module_version": "1.2.0",
            "_view_name": "LayoutView",
            "align_content": null,
            "align_items": null,
            "align_self": null,
            "border": null,
            "bottom": null,
            "display": null,
            "flex": null,
            "flex_flow": null,
            "grid_area": null,
            "grid_auto_columns": null,
            "grid_auto_flow": null,
            "grid_auto_rows": null,
            "grid_column": null,
            "grid_gap": null,
            "grid_row": null,
            "grid_template_areas": null,
            "grid_template_columns": null,
            "grid_template_rows": null,
            "height": null,
            "justify_content": null,
            "justify_items": null,
            "left": null,
            "margin": null,
            "max_height": null,
            "max_width": null,
            "min_height": null,
            "min_width": null,
            "object_fit": null,
            "object_position": null,
            "order": null,
            "overflow": null,
            "overflow_x": null,
            "overflow_y": null,
            "padding": null,
            "right": null,
            "top": null,
            "visibility": null,
            "width": null
          }
        },
        "2541b9d1363a42eeb80f6c8ffce9ace5": {
          "model_module": "@jupyter-widgets/controls",
          "model_name": "ProgressStyleModel",
          "model_module_version": "1.5.0",
          "state": {
            "_model_module": "@jupyter-widgets/controls",
            "_model_module_version": "1.5.0",
            "_model_name": "ProgressStyleModel",
            "_view_count": null,
            "_view_module": "@jupyter-widgets/base",
            "_view_module_version": "1.2.0",
            "_view_name": "StyleView",
            "bar_color": null,
            "description_width": ""
          }
        },
        "a09c9c8406004c2c869058ca8222c643": {
          "model_module": "@jupyter-widgets/base",
          "model_name": "LayoutModel",
          "model_module_version": "1.2.0",
          "state": {
            "_model_module": "@jupyter-widgets/base",
            "_model_module_version": "1.2.0",
            "_model_name": "LayoutModel",
            "_view_count": null,
            "_view_module": "@jupyter-widgets/base",
            "_view_module_version": "1.2.0",
            "_view_name": "LayoutView",
            "align_content": null,
            "align_items": null,
            "align_self": null,
            "border": null,
            "bottom": null,
            "display": null,
            "flex": null,
            "flex_flow": null,
            "grid_area": null,
            "grid_auto_columns": null,
            "grid_auto_flow": null,
            "grid_auto_rows": null,
            "grid_column": null,
            "grid_gap": null,
            "grid_row": null,
            "grid_template_areas": null,
            "grid_template_columns": null,
            "grid_template_rows": null,
            "height": null,
            "justify_content": null,
            "justify_items": null,
            "left": null,
            "margin": null,
            "max_height": null,
            "max_width": null,
            "min_height": null,
            "min_width": null,
            "object_fit": null,
            "object_position": null,
            "order": null,
            "overflow": null,
            "overflow_x": null,
            "overflow_y": null,
            "padding": null,
            "right": null,
            "top": null,
            "visibility": null,
            "width": null
          }
        },
        "556e2a46fbc14dc1958ec7e0dc4387cb": {
          "model_module": "@jupyter-widgets/controls",
          "model_name": "DescriptionStyleModel",
          "model_module_version": "1.5.0",
          "state": {
            "_model_module": "@jupyter-widgets/controls",
            "_model_module_version": "1.5.0",
            "_model_name": "DescriptionStyleModel",
            "_view_count": null,
            "_view_module": "@jupyter-widgets/base",
            "_view_module_version": "1.2.0",
            "_view_name": "StyleView",
            "description_width": ""
          }
        },
        "020c4eae7af54ae6a3e00d12c57a478e": {
          "model_module": "@jupyter-widgets/controls",
          "model_name": "HBoxModel",
          "model_module_version": "1.5.0",
          "state": {
            "_dom_classes": [],
            "_model_module": "@jupyter-widgets/controls",
            "_model_module_version": "1.5.0",
            "_model_name": "HBoxModel",
            "_view_count": null,
            "_view_module": "@jupyter-widgets/controls",
            "_view_module_version": "1.5.0",
            "_view_name": "HBoxView",
            "box_style": "",
            "children": [
              "IPY_MODEL_18dc0505aa6847d7969bb24a7cb91eee",
              "IPY_MODEL_65a445014ee04729b66c09d3000e50c0",
              "IPY_MODEL_99f089bb4f9b4cd69329792847294947"
            ],
            "layout": "IPY_MODEL_7cc5f31558be422a8c20a26d4d0e4b42"
          }
        },
        "18dc0505aa6847d7969bb24a7cb91eee": {
          "model_module": "@jupyter-widgets/controls",
          "model_name": "HTMLModel",
          "model_module_version": "1.5.0",
          "state": {
            "_dom_classes": [],
            "_model_module": "@jupyter-widgets/controls",
            "_model_module_version": "1.5.0",
            "_model_name": "HTMLModel",
            "_view_count": null,
            "_view_module": "@jupyter-widgets/controls",
            "_view_module_version": "1.5.0",
            "_view_name": "HTMLView",
            "description": "",
            "description_tooltip": null,
            "layout": "IPY_MODEL_587e583fb45c4b21813917324f954e0a",
            "placeholder": "​",
            "style": "IPY_MODEL_49be49c8edfe4602bdc3ec6ace5e7515",
            "value": "100%"
          }
        },
        "65a445014ee04729b66c09d3000e50c0": {
          "model_module": "@jupyter-widgets/controls",
          "model_name": "FloatProgressModel",
          "model_module_version": "1.5.0",
          "state": {
            "_dom_classes": [],
            "_model_module": "@jupyter-widgets/controls",
            "_model_module_version": "1.5.0",
            "_model_name": "FloatProgressModel",
            "_view_count": null,
            "_view_module": "@jupyter-widgets/controls",
            "_view_module_version": "1.5.0",
            "_view_name": "ProgressView",
            "bar_style": "success",
            "description": "",
            "description_tooltip": null,
            "layout": "IPY_MODEL_ddead9b5db7245b8bacc5d60ee730e90",
            "max": 100,
            "min": 0,
            "orientation": "horizontal",
            "style": "IPY_MODEL_b098f9e9e6e2417f8925e5a1debdd69e",
            "value": 100
          }
        },
        "99f089bb4f9b4cd69329792847294947": {
          "model_module": "@jupyter-widgets/controls",
          "model_name": "HTMLModel",
          "model_module_version": "1.5.0",
          "state": {
            "_dom_classes": [],
            "_model_module": "@jupyter-widgets/controls",
            "_model_module_version": "1.5.0",
            "_model_name": "HTMLModel",
            "_view_count": null,
            "_view_module": "@jupyter-widgets/controls",
            "_view_module_version": "1.5.0",
            "_view_name": "HTMLView",
            "description": "",
            "description_tooltip": null,
            "layout": "IPY_MODEL_ac09249582e94d35a1f43029c277ea77",
            "placeholder": "​",
            "style": "IPY_MODEL_87dfff3d0ebd4d84a60785b3b83e34c7",
            "value": " 100/100 [00:01&lt;00:00, 66.85it/s]"
          }
        },
        "7cc5f31558be422a8c20a26d4d0e4b42": {
          "model_module": "@jupyter-widgets/base",
          "model_name": "LayoutModel",
          "model_module_version": "1.2.0",
          "state": {
            "_model_module": "@jupyter-widgets/base",
            "_model_module_version": "1.2.0",
            "_model_name": "LayoutModel",
            "_view_count": null,
            "_view_module": "@jupyter-widgets/base",
            "_view_module_version": "1.2.0",
            "_view_name": "LayoutView",
            "align_content": null,
            "align_items": null,
            "align_self": null,
            "border": null,
            "bottom": null,
            "display": null,
            "flex": null,
            "flex_flow": null,
            "grid_area": null,
            "grid_auto_columns": null,
            "grid_auto_flow": null,
            "grid_auto_rows": null,
            "grid_column": null,
            "grid_gap": null,
            "grid_row": null,
            "grid_template_areas": null,
            "grid_template_columns": null,
            "grid_template_rows": null,
            "height": null,
            "justify_content": null,
            "justify_items": null,
            "left": null,
            "margin": null,
            "max_height": null,
            "max_width": null,
            "min_height": null,
            "min_width": null,
            "object_fit": null,
            "object_position": null,
            "order": null,
            "overflow": null,
            "overflow_x": null,
            "overflow_y": null,
            "padding": null,
            "right": null,
            "top": null,
            "visibility": null,
            "width": null
          }
        },
        "587e583fb45c4b21813917324f954e0a": {
          "model_module": "@jupyter-widgets/base",
          "model_name": "LayoutModel",
          "model_module_version": "1.2.0",
          "state": {
            "_model_module": "@jupyter-widgets/base",
            "_model_module_version": "1.2.0",
            "_model_name": "LayoutModel",
            "_view_count": null,
            "_view_module": "@jupyter-widgets/base",
            "_view_module_version": "1.2.0",
            "_view_name": "LayoutView",
            "align_content": null,
            "align_items": null,
            "align_self": null,
            "border": null,
            "bottom": null,
            "display": null,
            "flex": null,
            "flex_flow": null,
            "grid_area": null,
            "grid_auto_columns": null,
            "grid_auto_flow": null,
            "grid_auto_rows": null,
            "grid_column": null,
            "grid_gap": null,
            "grid_row": null,
            "grid_template_areas": null,
            "grid_template_columns": null,
            "grid_template_rows": null,
            "height": null,
            "justify_content": null,
            "justify_items": null,
            "left": null,
            "margin": null,
            "max_height": null,
            "max_width": null,
            "min_height": null,
            "min_width": null,
            "object_fit": null,
            "object_position": null,
            "order": null,
            "overflow": null,
            "overflow_x": null,
            "overflow_y": null,
            "padding": null,
            "right": null,
            "top": null,
            "visibility": null,
            "width": null
          }
        },
        "49be49c8edfe4602bdc3ec6ace5e7515": {
          "model_module": "@jupyter-widgets/controls",
          "model_name": "DescriptionStyleModel",
          "model_module_version": "1.5.0",
          "state": {
            "_model_module": "@jupyter-widgets/controls",
            "_model_module_version": "1.5.0",
            "_model_name": "DescriptionStyleModel",
            "_view_count": null,
            "_view_module": "@jupyter-widgets/base",
            "_view_module_version": "1.2.0",
            "_view_name": "StyleView",
            "description_width": ""
          }
        },
        "ddead9b5db7245b8bacc5d60ee730e90": {
          "model_module": "@jupyter-widgets/base",
          "model_name": "LayoutModel",
          "model_module_version": "1.2.0",
          "state": {
            "_model_module": "@jupyter-widgets/base",
            "_model_module_version": "1.2.0",
            "_model_name": "LayoutModel",
            "_view_count": null,
            "_view_module": "@jupyter-widgets/base",
            "_view_module_version": "1.2.0",
            "_view_name": "LayoutView",
            "align_content": null,
            "align_items": null,
            "align_self": null,
            "border": null,
            "bottom": null,
            "display": null,
            "flex": null,
            "flex_flow": null,
            "grid_area": null,
            "grid_auto_columns": null,
            "grid_auto_flow": null,
            "grid_auto_rows": null,
            "grid_column": null,
            "grid_gap": null,
            "grid_row": null,
            "grid_template_areas": null,
            "grid_template_columns": null,
            "grid_template_rows": null,
            "height": null,
            "justify_content": null,
            "justify_items": null,
            "left": null,
            "margin": null,
            "max_height": null,
            "max_width": null,
            "min_height": null,
            "min_width": null,
            "object_fit": null,
            "object_position": null,
            "order": null,
            "overflow": null,
            "overflow_x": null,
            "overflow_y": null,
            "padding": null,
            "right": null,
            "top": null,
            "visibility": null,
            "width": null
          }
        },
        "b098f9e9e6e2417f8925e5a1debdd69e": {
          "model_module": "@jupyter-widgets/controls",
          "model_name": "ProgressStyleModel",
          "model_module_version": "1.5.0",
          "state": {
            "_model_module": "@jupyter-widgets/controls",
            "_model_module_version": "1.5.0",
            "_model_name": "ProgressStyleModel",
            "_view_count": null,
            "_view_module": "@jupyter-widgets/base",
            "_view_module_version": "1.2.0",
            "_view_name": "StyleView",
            "bar_color": null,
            "description_width": ""
          }
        },
        "ac09249582e94d35a1f43029c277ea77": {
          "model_module": "@jupyter-widgets/base",
          "model_name": "LayoutModel",
          "model_module_version": "1.2.0",
          "state": {
            "_model_module": "@jupyter-widgets/base",
            "_model_module_version": "1.2.0",
            "_model_name": "LayoutModel",
            "_view_count": null,
            "_view_module": "@jupyter-widgets/base",
            "_view_module_version": "1.2.0",
            "_view_name": "LayoutView",
            "align_content": null,
            "align_items": null,
            "align_self": null,
            "border": null,
            "bottom": null,
            "display": null,
            "flex": null,
            "flex_flow": null,
            "grid_area": null,
            "grid_auto_columns": null,
            "grid_auto_flow": null,
            "grid_auto_rows": null,
            "grid_column": null,
            "grid_gap": null,
            "grid_row": null,
            "grid_template_areas": null,
            "grid_template_columns": null,
            "grid_template_rows": null,
            "height": null,
            "justify_content": null,
            "justify_items": null,
            "left": null,
            "margin": null,
            "max_height": null,
            "max_width": null,
            "min_height": null,
            "min_width": null,
            "object_fit": null,
            "object_position": null,
            "order": null,
            "overflow": null,
            "overflow_x": null,
            "overflow_y": null,
            "padding": null,
            "right": null,
            "top": null,
            "visibility": null,
            "width": null
          }
        },
        "87dfff3d0ebd4d84a60785b3b83e34c7": {
          "model_module": "@jupyter-widgets/controls",
          "model_name": "DescriptionStyleModel",
          "model_module_version": "1.5.0",
          "state": {
            "_model_module": "@jupyter-widgets/controls",
            "_model_module_version": "1.5.0",
            "_model_name": "DescriptionStyleModel",
            "_view_count": null,
            "_view_module": "@jupyter-widgets/base",
            "_view_module_version": "1.2.0",
            "_view_name": "StyleView",
            "description_width": ""
          }
        },
        "9b53617298af4c02901490fe9bd27472": {
          "model_module": "@jupyter-widgets/controls",
          "model_name": "HBoxModel",
          "model_module_version": "1.5.0",
          "state": {
            "_dom_classes": [],
            "_model_module": "@jupyter-widgets/controls",
            "_model_module_version": "1.5.0",
            "_model_name": "HBoxModel",
            "_view_count": null,
            "_view_module": "@jupyter-widgets/controls",
            "_view_module_version": "1.5.0",
            "_view_name": "HBoxView",
            "box_style": "",
            "children": [
              "IPY_MODEL_64189be272d944ca86920c0ebf6c6372",
              "IPY_MODEL_cfc00c78f7f849ef958c3cef24ba9e79",
              "IPY_MODEL_c1daf3514b3a4357ac7d8455cf9a3485"
            ],
            "layout": "IPY_MODEL_333b434bdcda4c62b9416b907dda8c84"
          }
        },
        "64189be272d944ca86920c0ebf6c6372": {
          "model_module": "@jupyter-widgets/controls",
          "model_name": "HTMLModel",
          "model_module_version": "1.5.0",
          "state": {
            "_dom_classes": [],
            "_model_module": "@jupyter-widgets/controls",
            "_model_module_version": "1.5.0",
            "_model_name": "HTMLModel",
            "_view_count": null,
            "_view_module": "@jupyter-widgets/controls",
            "_view_module_version": "1.5.0",
            "_view_name": "HTMLView",
            "description": "",
            "description_tooltip": null,
            "layout": "IPY_MODEL_60ba5cd557c146e3b08cd38d29d5d33c",
            "placeholder": "​",
            "style": "IPY_MODEL_b3c6bd9bb4f94daa90af0ac6634364fe",
            "value": "100%"
          }
        },
        "cfc00c78f7f849ef958c3cef24ba9e79": {
          "model_module": "@jupyter-widgets/controls",
          "model_name": "FloatProgressModel",
          "model_module_version": "1.5.0",
          "state": {
            "_dom_classes": [],
            "_model_module": "@jupyter-widgets/controls",
            "_model_module_version": "1.5.0",
            "_model_name": "FloatProgressModel",
            "_view_count": null,
            "_view_module": "@jupyter-widgets/controls",
            "_view_module_version": "1.5.0",
            "_view_name": "ProgressView",
            "bar_style": "success",
            "description": "",
            "description_tooltip": null,
            "layout": "IPY_MODEL_0122315b90d34266a0bbe95d1e06d1fb",
            "max": 600,
            "min": 0,
            "orientation": "horizontal",
            "style": "IPY_MODEL_0bf29652d55544f59370089cc57c0af3",
            "value": 600
          }
        },
        "c1daf3514b3a4357ac7d8455cf9a3485": {
          "model_module": "@jupyter-widgets/controls",
          "model_name": "HTMLModel",
          "model_module_version": "1.5.0",
          "state": {
            "_dom_classes": [],
            "_model_module": "@jupyter-widgets/controls",
            "_model_module_version": "1.5.0",
            "_model_name": "HTMLModel",
            "_view_count": null,
            "_view_module": "@jupyter-widgets/controls",
            "_view_module_version": "1.5.0",
            "_view_name": "HTMLView",
            "description": "",
            "description_tooltip": null,
            "layout": "IPY_MODEL_edbdab71b867447594976dc238ff11f5",
            "placeholder": "​",
            "style": "IPY_MODEL_df17ab12a5334e52ace8cac3be9433a6",
            "value": " 600/600 [00:10&lt;00:00, 61.96it/s]"
          }
        },
        "333b434bdcda4c62b9416b907dda8c84": {
          "model_module": "@jupyter-widgets/base",
          "model_name": "LayoutModel",
          "model_module_version": "1.2.0",
          "state": {
            "_model_module": "@jupyter-widgets/base",
            "_model_module_version": "1.2.0",
            "_model_name": "LayoutModel",
            "_view_count": null,
            "_view_module": "@jupyter-widgets/base",
            "_view_module_version": "1.2.0",
            "_view_name": "LayoutView",
            "align_content": null,
            "align_items": null,
            "align_self": null,
            "border": null,
            "bottom": null,
            "display": null,
            "flex": null,
            "flex_flow": null,
            "grid_area": null,
            "grid_auto_columns": null,
            "grid_auto_flow": null,
            "grid_auto_rows": null,
            "grid_column": null,
            "grid_gap": null,
            "grid_row": null,
            "grid_template_areas": null,
            "grid_template_columns": null,
            "grid_template_rows": null,
            "height": null,
            "justify_content": null,
            "justify_items": null,
            "left": null,
            "margin": null,
            "max_height": null,
            "max_width": null,
            "min_height": null,
            "min_width": null,
            "object_fit": null,
            "object_position": null,
            "order": null,
            "overflow": null,
            "overflow_x": null,
            "overflow_y": null,
            "padding": null,
            "right": null,
            "top": null,
            "visibility": null,
            "width": null
          }
        },
        "60ba5cd557c146e3b08cd38d29d5d33c": {
          "model_module": "@jupyter-widgets/base",
          "model_name": "LayoutModel",
          "model_module_version": "1.2.0",
          "state": {
            "_model_module": "@jupyter-widgets/base",
            "_model_module_version": "1.2.0",
            "_model_name": "LayoutModel",
            "_view_count": null,
            "_view_module": "@jupyter-widgets/base",
            "_view_module_version": "1.2.0",
            "_view_name": "LayoutView",
            "align_content": null,
            "align_items": null,
            "align_self": null,
            "border": null,
            "bottom": null,
            "display": null,
            "flex": null,
            "flex_flow": null,
            "grid_area": null,
            "grid_auto_columns": null,
            "grid_auto_flow": null,
            "grid_auto_rows": null,
            "grid_column": null,
            "grid_gap": null,
            "grid_row": null,
            "grid_template_areas": null,
            "grid_template_columns": null,
            "grid_template_rows": null,
            "height": null,
            "justify_content": null,
            "justify_items": null,
            "left": null,
            "margin": null,
            "max_height": null,
            "max_width": null,
            "min_height": null,
            "min_width": null,
            "object_fit": null,
            "object_position": null,
            "order": null,
            "overflow": null,
            "overflow_x": null,
            "overflow_y": null,
            "padding": null,
            "right": null,
            "top": null,
            "visibility": null,
            "width": null
          }
        },
        "b3c6bd9bb4f94daa90af0ac6634364fe": {
          "model_module": "@jupyter-widgets/controls",
          "model_name": "DescriptionStyleModel",
          "model_module_version": "1.5.0",
          "state": {
            "_model_module": "@jupyter-widgets/controls",
            "_model_module_version": "1.5.0",
            "_model_name": "DescriptionStyleModel",
            "_view_count": null,
            "_view_module": "@jupyter-widgets/base",
            "_view_module_version": "1.2.0",
            "_view_name": "StyleView",
            "description_width": ""
          }
        },
        "0122315b90d34266a0bbe95d1e06d1fb": {
          "model_module": "@jupyter-widgets/base",
          "model_name": "LayoutModel",
          "model_module_version": "1.2.0",
          "state": {
            "_model_module": "@jupyter-widgets/base",
            "_model_module_version": "1.2.0",
            "_model_name": "LayoutModel",
            "_view_count": null,
            "_view_module": "@jupyter-widgets/base",
            "_view_module_version": "1.2.0",
            "_view_name": "LayoutView",
            "align_content": null,
            "align_items": null,
            "align_self": null,
            "border": null,
            "bottom": null,
            "display": null,
            "flex": null,
            "flex_flow": null,
            "grid_area": null,
            "grid_auto_columns": null,
            "grid_auto_flow": null,
            "grid_auto_rows": null,
            "grid_column": null,
            "grid_gap": null,
            "grid_row": null,
            "grid_template_areas": null,
            "grid_template_columns": null,
            "grid_template_rows": null,
            "height": null,
            "justify_content": null,
            "justify_items": null,
            "left": null,
            "margin": null,
            "max_height": null,
            "max_width": null,
            "min_height": null,
            "min_width": null,
            "object_fit": null,
            "object_position": null,
            "order": null,
            "overflow": null,
            "overflow_x": null,
            "overflow_y": null,
            "padding": null,
            "right": null,
            "top": null,
            "visibility": null,
            "width": null
          }
        },
        "0bf29652d55544f59370089cc57c0af3": {
          "model_module": "@jupyter-widgets/controls",
          "model_name": "ProgressStyleModel",
          "model_module_version": "1.5.0",
          "state": {
            "_model_module": "@jupyter-widgets/controls",
            "_model_module_version": "1.5.0",
            "_model_name": "ProgressStyleModel",
            "_view_count": null,
            "_view_module": "@jupyter-widgets/base",
            "_view_module_version": "1.2.0",
            "_view_name": "StyleView",
            "bar_color": null,
            "description_width": ""
          }
        },
        "edbdab71b867447594976dc238ff11f5": {
          "model_module": "@jupyter-widgets/base",
          "model_name": "LayoutModel",
          "model_module_version": "1.2.0",
          "state": {
            "_model_module": "@jupyter-widgets/base",
            "_model_module_version": "1.2.0",
            "_model_name": "LayoutModel",
            "_view_count": null,
            "_view_module": "@jupyter-widgets/base",
            "_view_module_version": "1.2.0",
            "_view_name": "LayoutView",
            "align_content": null,
            "align_items": null,
            "align_self": null,
            "border": null,
            "bottom": null,
            "display": null,
            "flex": null,
            "flex_flow": null,
            "grid_area": null,
            "grid_auto_columns": null,
            "grid_auto_flow": null,
            "grid_auto_rows": null,
            "grid_column": null,
            "grid_gap": null,
            "grid_row": null,
            "grid_template_areas": null,
            "grid_template_columns": null,
            "grid_template_rows": null,
            "height": null,
            "justify_content": null,
            "justify_items": null,
            "left": null,
            "margin": null,
            "max_height": null,
            "max_width": null,
            "min_height": null,
            "min_width": null,
            "object_fit": null,
            "object_position": null,
            "order": null,
            "overflow": null,
            "overflow_x": null,
            "overflow_y": null,
            "padding": null,
            "right": null,
            "top": null,
            "visibility": null,
            "width": null
          }
        },
        "df17ab12a5334e52ace8cac3be9433a6": {
          "model_module": "@jupyter-widgets/controls",
          "model_name": "DescriptionStyleModel",
          "model_module_version": "1.5.0",
          "state": {
            "_model_module": "@jupyter-widgets/controls",
            "_model_module_version": "1.5.0",
            "_model_name": "DescriptionStyleModel",
            "_view_count": null,
            "_view_module": "@jupyter-widgets/base",
            "_view_module_version": "1.2.0",
            "_view_name": "StyleView",
            "description_width": ""
          }
        },
        "48beba49ece34c5782ec95e2c9a68724": {
          "model_module": "@jupyter-widgets/controls",
          "model_name": "HBoxModel",
          "model_module_version": "1.5.0",
          "state": {
            "_dom_classes": [],
            "_model_module": "@jupyter-widgets/controls",
            "_model_module_version": "1.5.0",
            "_model_name": "HBoxModel",
            "_view_count": null,
            "_view_module": "@jupyter-widgets/controls",
            "_view_module_version": "1.5.0",
            "_view_name": "HBoxView",
            "box_style": "",
            "children": [
              "IPY_MODEL_2a20934f9b2a40e79f1fe0c5b8245af4",
              "IPY_MODEL_e4a7adc5d9664106a64a12b9096e1427",
              "IPY_MODEL_4f8d518be1f14c8db7d76646b468ac2f"
            ],
            "layout": "IPY_MODEL_3e5990fd76e241eba238c32a3cf9ada3"
          }
        },
        "2a20934f9b2a40e79f1fe0c5b8245af4": {
          "model_module": "@jupyter-widgets/controls",
          "model_name": "HTMLModel",
          "model_module_version": "1.5.0",
          "state": {
            "_dom_classes": [],
            "_model_module": "@jupyter-widgets/controls",
            "_model_module_version": "1.5.0",
            "_model_name": "HTMLModel",
            "_view_count": null,
            "_view_module": "@jupyter-widgets/controls",
            "_view_module_version": "1.5.0",
            "_view_name": "HTMLView",
            "description": "",
            "description_tooltip": null,
            "layout": "IPY_MODEL_e2b2ede7517c4c8892fb149d9e1502b2",
            "placeholder": "​",
            "style": "IPY_MODEL_7b2ae893495b41d7b8d6a38f7b593967",
            "value": "100%"
          }
        },
        "e4a7adc5d9664106a64a12b9096e1427": {
          "model_module": "@jupyter-widgets/controls",
          "model_name": "FloatProgressModel",
          "model_module_version": "1.5.0",
          "state": {
            "_dom_classes": [],
            "_model_module": "@jupyter-widgets/controls",
            "_model_module_version": "1.5.0",
            "_model_name": "FloatProgressModel",
            "_view_count": null,
            "_view_module": "@jupyter-widgets/controls",
            "_view_module_version": "1.5.0",
            "_view_name": "ProgressView",
            "bar_style": "success",
            "description": "",
            "description_tooltip": null,
            "layout": "IPY_MODEL_469fac143bb14c259f0a83fc0383c643",
            "max": 100,
            "min": 0,
            "orientation": "horizontal",
            "style": "IPY_MODEL_644f4a0f76854701ac937062a834da5e",
            "value": 100
          }
        },
        "4f8d518be1f14c8db7d76646b468ac2f": {
          "model_module": "@jupyter-widgets/controls",
          "model_name": "HTMLModel",
          "model_module_version": "1.5.0",
          "state": {
            "_dom_classes": [],
            "_model_module": "@jupyter-widgets/controls",
            "_model_module_version": "1.5.0",
            "_model_name": "HTMLModel",
            "_view_count": null,
            "_view_module": "@jupyter-widgets/controls",
            "_view_module_version": "1.5.0",
            "_view_name": "HTMLView",
            "description": "",
            "description_tooltip": null,
            "layout": "IPY_MODEL_ab3c7aae8c7544a8b21c3a528e40f3c7",
            "placeholder": "​",
            "style": "IPY_MODEL_87acb42c8f8e4695b6ed26dae5882d89",
            "value": " 100/100 [00:01&lt;00:00, 69.28it/s]"
          }
        },
        "3e5990fd76e241eba238c32a3cf9ada3": {
          "model_module": "@jupyter-widgets/base",
          "model_name": "LayoutModel",
          "model_module_version": "1.2.0",
          "state": {
            "_model_module": "@jupyter-widgets/base",
            "_model_module_version": "1.2.0",
            "_model_name": "LayoutModel",
            "_view_count": null,
            "_view_module": "@jupyter-widgets/base",
            "_view_module_version": "1.2.0",
            "_view_name": "LayoutView",
            "align_content": null,
            "align_items": null,
            "align_self": null,
            "border": null,
            "bottom": null,
            "display": null,
            "flex": null,
            "flex_flow": null,
            "grid_area": null,
            "grid_auto_columns": null,
            "grid_auto_flow": null,
            "grid_auto_rows": null,
            "grid_column": null,
            "grid_gap": null,
            "grid_row": null,
            "grid_template_areas": null,
            "grid_template_columns": null,
            "grid_template_rows": null,
            "height": null,
            "justify_content": null,
            "justify_items": null,
            "left": null,
            "margin": null,
            "max_height": null,
            "max_width": null,
            "min_height": null,
            "min_width": null,
            "object_fit": null,
            "object_position": null,
            "order": null,
            "overflow": null,
            "overflow_x": null,
            "overflow_y": null,
            "padding": null,
            "right": null,
            "top": null,
            "visibility": null,
            "width": null
          }
        },
        "e2b2ede7517c4c8892fb149d9e1502b2": {
          "model_module": "@jupyter-widgets/base",
          "model_name": "LayoutModel",
          "model_module_version": "1.2.0",
          "state": {
            "_model_module": "@jupyter-widgets/base",
            "_model_module_version": "1.2.0",
            "_model_name": "LayoutModel",
            "_view_count": null,
            "_view_module": "@jupyter-widgets/base",
            "_view_module_version": "1.2.0",
            "_view_name": "LayoutView",
            "align_content": null,
            "align_items": null,
            "align_self": null,
            "border": null,
            "bottom": null,
            "display": null,
            "flex": null,
            "flex_flow": null,
            "grid_area": null,
            "grid_auto_columns": null,
            "grid_auto_flow": null,
            "grid_auto_rows": null,
            "grid_column": null,
            "grid_gap": null,
            "grid_row": null,
            "grid_template_areas": null,
            "grid_template_columns": null,
            "grid_template_rows": null,
            "height": null,
            "justify_content": null,
            "justify_items": null,
            "left": null,
            "margin": null,
            "max_height": null,
            "max_width": null,
            "min_height": null,
            "min_width": null,
            "object_fit": null,
            "object_position": null,
            "order": null,
            "overflow": null,
            "overflow_x": null,
            "overflow_y": null,
            "padding": null,
            "right": null,
            "top": null,
            "visibility": null,
            "width": null
          }
        },
        "7b2ae893495b41d7b8d6a38f7b593967": {
          "model_module": "@jupyter-widgets/controls",
          "model_name": "DescriptionStyleModel",
          "model_module_version": "1.5.0",
          "state": {
            "_model_module": "@jupyter-widgets/controls",
            "_model_module_version": "1.5.0",
            "_model_name": "DescriptionStyleModel",
            "_view_count": null,
            "_view_module": "@jupyter-widgets/base",
            "_view_module_version": "1.2.0",
            "_view_name": "StyleView",
            "description_width": ""
          }
        },
        "469fac143bb14c259f0a83fc0383c643": {
          "model_module": "@jupyter-widgets/base",
          "model_name": "LayoutModel",
          "model_module_version": "1.2.0",
          "state": {
            "_model_module": "@jupyter-widgets/base",
            "_model_module_version": "1.2.0",
            "_model_name": "LayoutModel",
            "_view_count": null,
            "_view_module": "@jupyter-widgets/base",
            "_view_module_version": "1.2.0",
            "_view_name": "LayoutView",
            "align_content": null,
            "align_items": null,
            "align_self": null,
            "border": null,
            "bottom": null,
            "display": null,
            "flex": null,
            "flex_flow": null,
            "grid_area": null,
            "grid_auto_columns": null,
            "grid_auto_flow": null,
            "grid_auto_rows": null,
            "grid_column": null,
            "grid_gap": null,
            "grid_row": null,
            "grid_template_areas": null,
            "grid_template_columns": null,
            "grid_template_rows": null,
            "height": null,
            "justify_content": null,
            "justify_items": null,
            "left": null,
            "margin": null,
            "max_height": null,
            "max_width": null,
            "min_height": null,
            "min_width": null,
            "object_fit": null,
            "object_position": null,
            "order": null,
            "overflow": null,
            "overflow_x": null,
            "overflow_y": null,
            "padding": null,
            "right": null,
            "top": null,
            "visibility": null,
            "width": null
          }
        },
        "644f4a0f76854701ac937062a834da5e": {
          "model_module": "@jupyter-widgets/controls",
          "model_name": "ProgressStyleModel",
          "model_module_version": "1.5.0",
          "state": {
            "_model_module": "@jupyter-widgets/controls",
            "_model_module_version": "1.5.0",
            "_model_name": "ProgressStyleModel",
            "_view_count": null,
            "_view_module": "@jupyter-widgets/base",
            "_view_module_version": "1.2.0",
            "_view_name": "StyleView",
            "bar_color": null,
            "description_width": ""
          }
        },
        "ab3c7aae8c7544a8b21c3a528e40f3c7": {
          "model_module": "@jupyter-widgets/base",
          "model_name": "LayoutModel",
          "model_module_version": "1.2.0",
          "state": {
            "_model_module": "@jupyter-widgets/base",
            "_model_module_version": "1.2.0",
            "_model_name": "LayoutModel",
            "_view_count": null,
            "_view_module": "@jupyter-widgets/base",
            "_view_module_version": "1.2.0",
            "_view_name": "LayoutView",
            "align_content": null,
            "align_items": null,
            "align_self": null,
            "border": null,
            "bottom": null,
            "display": null,
            "flex": null,
            "flex_flow": null,
            "grid_area": null,
            "grid_auto_columns": null,
            "grid_auto_flow": null,
            "grid_auto_rows": null,
            "grid_column": null,
            "grid_gap": null,
            "grid_row": null,
            "grid_template_areas": null,
            "grid_template_columns": null,
            "grid_template_rows": null,
            "height": null,
            "justify_content": null,
            "justify_items": null,
            "left": null,
            "margin": null,
            "max_height": null,
            "max_width": null,
            "min_height": null,
            "min_width": null,
            "object_fit": null,
            "object_position": null,
            "order": null,
            "overflow": null,
            "overflow_x": null,
            "overflow_y": null,
            "padding": null,
            "right": null,
            "top": null,
            "visibility": null,
            "width": null
          }
        },
        "87acb42c8f8e4695b6ed26dae5882d89": {
          "model_module": "@jupyter-widgets/controls",
          "model_name": "DescriptionStyleModel",
          "model_module_version": "1.5.0",
          "state": {
            "_model_module": "@jupyter-widgets/controls",
            "_model_module_version": "1.5.0",
            "_model_name": "DescriptionStyleModel",
            "_view_count": null,
            "_view_module": "@jupyter-widgets/base",
            "_view_module_version": "1.2.0",
            "_view_name": "StyleView",
            "description_width": ""
          }
        },
        "e700e2d455364dc69626e0420ce92e83": {
          "model_module": "@jupyter-widgets/controls",
          "model_name": "HBoxModel",
          "model_module_version": "1.5.0",
          "state": {
            "_dom_classes": [],
            "_model_module": "@jupyter-widgets/controls",
            "_model_module_version": "1.5.0",
            "_model_name": "HBoxModel",
            "_view_count": null,
            "_view_module": "@jupyter-widgets/controls",
            "_view_module_version": "1.5.0",
            "_view_name": "HBoxView",
            "box_style": "",
            "children": [
              "IPY_MODEL_fae1aa2b3f6344dfa28a3bcf0df78698",
              "IPY_MODEL_8f7e74d3931a4f0cac402095dad251ec",
              "IPY_MODEL_ab0e2c11044d43ee94f4c2a180c1661a"
            ],
            "layout": "IPY_MODEL_efd6fa9bf52a4334a4ab2baf7d678776"
          }
        },
        "fae1aa2b3f6344dfa28a3bcf0df78698": {
          "model_module": "@jupyter-widgets/controls",
          "model_name": "HTMLModel",
          "model_module_version": "1.5.0",
          "state": {
            "_dom_classes": [],
            "_model_module": "@jupyter-widgets/controls",
            "_model_module_version": "1.5.0",
            "_model_name": "HTMLModel",
            "_view_count": null,
            "_view_module": "@jupyter-widgets/controls",
            "_view_module_version": "1.5.0",
            "_view_name": "HTMLView",
            "description": "",
            "description_tooltip": null,
            "layout": "IPY_MODEL_759dba77f3b347a48c7683e1a9c862b4",
            "placeholder": "​",
            "style": "IPY_MODEL_e361765d66d84e50979c51258708b837",
            "value": "100%"
          }
        },
        "8f7e74d3931a4f0cac402095dad251ec": {
          "model_module": "@jupyter-widgets/controls",
          "model_name": "FloatProgressModel",
          "model_module_version": "1.5.0",
          "state": {
            "_dom_classes": [],
            "_model_module": "@jupyter-widgets/controls",
            "_model_module_version": "1.5.0",
            "_model_name": "FloatProgressModel",
            "_view_count": null,
            "_view_module": "@jupyter-widgets/controls",
            "_view_module_version": "1.5.0",
            "_view_name": "ProgressView",
            "bar_style": "success",
            "description": "",
            "description_tooltip": null,
            "layout": "IPY_MODEL_1d826265e6e946feb0f68ac2b02bf171",
            "max": 600,
            "min": 0,
            "orientation": "horizontal",
            "style": "IPY_MODEL_50540452241f40c1ad1b5873c400b366",
            "value": 600
          }
        },
        "ab0e2c11044d43ee94f4c2a180c1661a": {
          "model_module": "@jupyter-widgets/controls",
          "model_name": "HTMLModel",
          "model_module_version": "1.5.0",
          "state": {
            "_dom_classes": [],
            "_model_module": "@jupyter-widgets/controls",
            "_model_module_version": "1.5.0",
            "_model_name": "HTMLModel",
            "_view_count": null,
            "_view_module": "@jupyter-widgets/controls",
            "_view_module_version": "1.5.0",
            "_view_name": "HTMLView",
            "description": "",
            "description_tooltip": null,
            "layout": "IPY_MODEL_a4f47793c06a45e6badf27b4cad7fe3e",
            "placeholder": "​",
            "style": "IPY_MODEL_0a9ed724b1264c0c82a4e00b14c96f68",
            "value": " 600/600 [00:12&lt;00:00, 68.66it/s]"
          }
        },
        "efd6fa9bf52a4334a4ab2baf7d678776": {
          "model_module": "@jupyter-widgets/base",
          "model_name": "LayoutModel",
          "model_module_version": "1.2.0",
          "state": {
            "_model_module": "@jupyter-widgets/base",
            "_model_module_version": "1.2.0",
            "_model_name": "LayoutModel",
            "_view_count": null,
            "_view_module": "@jupyter-widgets/base",
            "_view_module_version": "1.2.0",
            "_view_name": "LayoutView",
            "align_content": null,
            "align_items": null,
            "align_self": null,
            "border": null,
            "bottom": null,
            "display": null,
            "flex": null,
            "flex_flow": null,
            "grid_area": null,
            "grid_auto_columns": null,
            "grid_auto_flow": null,
            "grid_auto_rows": null,
            "grid_column": null,
            "grid_gap": null,
            "grid_row": null,
            "grid_template_areas": null,
            "grid_template_columns": null,
            "grid_template_rows": null,
            "height": null,
            "justify_content": null,
            "justify_items": null,
            "left": null,
            "margin": null,
            "max_height": null,
            "max_width": null,
            "min_height": null,
            "min_width": null,
            "object_fit": null,
            "object_position": null,
            "order": null,
            "overflow": null,
            "overflow_x": null,
            "overflow_y": null,
            "padding": null,
            "right": null,
            "top": null,
            "visibility": null,
            "width": null
          }
        },
        "759dba77f3b347a48c7683e1a9c862b4": {
          "model_module": "@jupyter-widgets/base",
          "model_name": "LayoutModel",
          "model_module_version": "1.2.0",
          "state": {
            "_model_module": "@jupyter-widgets/base",
            "_model_module_version": "1.2.0",
            "_model_name": "LayoutModel",
            "_view_count": null,
            "_view_module": "@jupyter-widgets/base",
            "_view_module_version": "1.2.0",
            "_view_name": "LayoutView",
            "align_content": null,
            "align_items": null,
            "align_self": null,
            "border": null,
            "bottom": null,
            "display": null,
            "flex": null,
            "flex_flow": null,
            "grid_area": null,
            "grid_auto_columns": null,
            "grid_auto_flow": null,
            "grid_auto_rows": null,
            "grid_column": null,
            "grid_gap": null,
            "grid_row": null,
            "grid_template_areas": null,
            "grid_template_columns": null,
            "grid_template_rows": null,
            "height": null,
            "justify_content": null,
            "justify_items": null,
            "left": null,
            "margin": null,
            "max_height": null,
            "max_width": null,
            "min_height": null,
            "min_width": null,
            "object_fit": null,
            "object_position": null,
            "order": null,
            "overflow": null,
            "overflow_x": null,
            "overflow_y": null,
            "padding": null,
            "right": null,
            "top": null,
            "visibility": null,
            "width": null
          }
        },
        "e361765d66d84e50979c51258708b837": {
          "model_module": "@jupyter-widgets/controls",
          "model_name": "DescriptionStyleModel",
          "model_module_version": "1.5.0",
          "state": {
            "_model_module": "@jupyter-widgets/controls",
            "_model_module_version": "1.5.0",
            "_model_name": "DescriptionStyleModel",
            "_view_count": null,
            "_view_module": "@jupyter-widgets/base",
            "_view_module_version": "1.2.0",
            "_view_name": "StyleView",
            "description_width": ""
          }
        },
        "1d826265e6e946feb0f68ac2b02bf171": {
          "model_module": "@jupyter-widgets/base",
          "model_name": "LayoutModel",
          "model_module_version": "1.2.0",
          "state": {
            "_model_module": "@jupyter-widgets/base",
            "_model_module_version": "1.2.0",
            "_model_name": "LayoutModel",
            "_view_count": null,
            "_view_module": "@jupyter-widgets/base",
            "_view_module_version": "1.2.0",
            "_view_name": "LayoutView",
            "align_content": null,
            "align_items": null,
            "align_self": null,
            "border": null,
            "bottom": null,
            "display": null,
            "flex": null,
            "flex_flow": null,
            "grid_area": null,
            "grid_auto_columns": null,
            "grid_auto_flow": null,
            "grid_auto_rows": null,
            "grid_column": null,
            "grid_gap": null,
            "grid_row": null,
            "grid_template_areas": null,
            "grid_template_columns": null,
            "grid_template_rows": null,
            "height": null,
            "justify_content": null,
            "justify_items": null,
            "left": null,
            "margin": null,
            "max_height": null,
            "max_width": null,
            "min_height": null,
            "min_width": null,
            "object_fit": null,
            "object_position": null,
            "order": null,
            "overflow": null,
            "overflow_x": null,
            "overflow_y": null,
            "padding": null,
            "right": null,
            "top": null,
            "visibility": null,
            "width": null
          }
        },
        "50540452241f40c1ad1b5873c400b366": {
          "model_module": "@jupyter-widgets/controls",
          "model_name": "ProgressStyleModel",
          "model_module_version": "1.5.0",
          "state": {
            "_model_module": "@jupyter-widgets/controls",
            "_model_module_version": "1.5.0",
            "_model_name": "ProgressStyleModel",
            "_view_count": null,
            "_view_module": "@jupyter-widgets/base",
            "_view_module_version": "1.2.0",
            "_view_name": "StyleView",
            "bar_color": null,
            "description_width": ""
          }
        },
        "a4f47793c06a45e6badf27b4cad7fe3e": {
          "model_module": "@jupyter-widgets/base",
          "model_name": "LayoutModel",
          "model_module_version": "1.2.0",
          "state": {
            "_model_module": "@jupyter-widgets/base",
            "_model_module_version": "1.2.0",
            "_model_name": "LayoutModel",
            "_view_count": null,
            "_view_module": "@jupyter-widgets/base",
            "_view_module_version": "1.2.0",
            "_view_name": "LayoutView",
            "align_content": null,
            "align_items": null,
            "align_self": null,
            "border": null,
            "bottom": null,
            "display": null,
            "flex": null,
            "flex_flow": null,
            "grid_area": null,
            "grid_auto_columns": null,
            "grid_auto_flow": null,
            "grid_auto_rows": null,
            "grid_column": null,
            "grid_gap": null,
            "grid_row": null,
            "grid_template_areas": null,
            "grid_template_columns": null,
            "grid_template_rows": null,
            "height": null,
            "justify_content": null,
            "justify_items": null,
            "left": null,
            "margin": null,
            "max_height": null,
            "max_width": null,
            "min_height": null,
            "min_width": null,
            "object_fit": null,
            "object_position": null,
            "order": null,
            "overflow": null,
            "overflow_x": null,
            "overflow_y": null,
            "padding": null,
            "right": null,
            "top": null,
            "visibility": null,
            "width": null
          }
        },
        "0a9ed724b1264c0c82a4e00b14c96f68": {
          "model_module": "@jupyter-widgets/controls",
          "model_name": "DescriptionStyleModel",
          "model_module_version": "1.5.0",
          "state": {
            "_model_module": "@jupyter-widgets/controls",
            "_model_module_version": "1.5.0",
            "_model_name": "DescriptionStyleModel",
            "_view_count": null,
            "_view_module": "@jupyter-widgets/base",
            "_view_module_version": "1.2.0",
            "_view_name": "StyleView",
            "description_width": ""
          }
        },
        "b4c85a9c72a04d25a0553f0b56750245": {
          "model_module": "@jupyter-widgets/controls",
          "model_name": "HBoxModel",
          "model_module_version": "1.5.0",
          "state": {
            "_dom_classes": [],
            "_model_module": "@jupyter-widgets/controls",
            "_model_module_version": "1.5.0",
            "_model_name": "HBoxModel",
            "_view_count": null,
            "_view_module": "@jupyter-widgets/controls",
            "_view_module_version": "1.5.0",
            "_view_name": "HBoxView",
            "box_style": "",
            "children": [
              "IPY_MODEL_f851468c86134056998347b7c59a3cb2",
              "IPY_MODEL_b62d6999f7f04060868b493164ed57d9",
              "IPY_MODEL_f376382ebcfd491892976719ef4ffab1"
            ],
            "layout": "IPY_MODEL_54cc64425486402d86cf520ee6961044"
          }
        },
        "f851468c86134056998347b7c59a3cb2": {
          "model_module": "@jupyter-widgets/controls",
          "model_name": "HTMLModel",
          "model_module_version": "1.5.0",
          "state": {
            "_dom_classes": [],
            "_model_module": "@jupyter-widgets/controls",
            "_model_module_version": "1.5.0",
            "_model_name": "HTMLModel",
            "_view_count": null,
            "_view_module": "@jupyter-widgets/controls",
            "_view_module_version": "1.5.0",
            "_view_name": "HTMLView",
            "description": "",
            "description_tooltip": null,
            "layout": "IPY_MODEL_8c874c61bf024fc7bb32ecabec15b875",
            "placeholder": "​",
            "style": "IPY_MODEL_4045e73389f34555b65c4f5df52ea324",
            "value": "100%"
          }
        },
        "b62d6999f7f04060868b493164ed57d9": {
          "model_module": "@jupyter-widgets/controls",
          "model_name": "FloatProgressModel",
          "model_module_version": "1.5.0",
          "state": {
            "_dom_classes": [],
            "_model_module": "@jupyter-widgets/controls",
            "_model_module_version": "1.5.0",
            "_model_name": "FloatProgressModel",
            "_view_count": null,
            "_view_module": "@jupyter-widgets/controls",
            "_view_module_version": "1.5.0",
            "_view_name": "ProgressView",
            "bar_style": "success",
            "description": "",
            "description_tooltip": null,
            "layout": "IPY_MODEL_0ea7503cb20b43e0a7439f2ec9fb53a0",
            "max": 100,
            "min": 0,
            "orientation": "horizontal",
            "style": "IPY_MODEL_0402c090ddc84649b7fddd6cac8399b0",
            "value": 100
          }
        },
        "f376382ebcfd491892976719ef4ffab1": {
          "model_module": "@jupyter-widgets/controls",
          "model_name": "HTMLModel",
          "model_module_version": "1.5.0",
          "state": {
            "_dom_classes": [],
            "_model_module": "@jupyter-widgets/controls",
            "_model_module_version": "1.5.0",
            "_model_name": "HTMLModel",
            "_view_count": null,
            "_view_module": "@jupyter-widgets/controls",
            "_view_module_version": "1.5.0",
            "_view_name": "HTMLView",
            "description": "",
            "description_tooltip": null,
            "layout": "IPY_MODEL_84ae27b1832341c9a7b6f526fa7d91ba",
            "placeholder": "​",
            "style": "IPY_MODEL_6a99d3bb54cf40d290e2cce01524fab2",
            "value": " 100/100 [00:01&lt;00:00, 65.01it/s]"
          }
        },
        "54cc64425486402d86cf520ee6961044": {
          "model_module": "@jupyter-widgets/base",
          "model_name": "LayoutModel",
          "model_module_version": "1.2.0",
          "state": {
            "_model_module": "@jupyter-widgets/base",
            "_model_module_version": "1.2.0",
            "_model_name": "LayoutModel",
            "_view_count": null,
            "_view_module": "@jupyter-widgets/base",
            "_view_module_version": "1.2.0",
            "_view_name": "LayoutView",
            "align_content": null,
            "align_items": null,
            "align_self": null,
            "border": null,
            "bottom": null,
            "display": null,
            "flex": null,
            "flex_flow": null,
            "grid_area": null,
            "grid_auto_columns": null,
            "grid_auto_flow": null,
            "grid_auto_rows": null,
            "grid_column": null,
            "grid_gap": null,
            "grid_row": null,
            "grid_template_areas": null,
            "grid_template_columns": null,
            "grid_template_rows": null,
            "height": null,
            "justify_content": null,
            "justify_items": null,
            "left": null,
            "margin": null,
            "max_height": null,
            "max_width": null,
            "min_height": null,
            "min_width": null,
            "object_fit": null,
            "object_position": null,
            "order": null,
            "overflow": null,
            "overflow_x": null,
            "overflow_y": null,
            "padding": null,
            "right": null,
            "top": null,
            "visibility": null,
            "width": null
          }
        },
        "8c874c61bf024fc7bb32ecabec15b875": {
          "model_module": "@jupyter-widgets/base",
          "model_name": "LayoutModel",
          "model_module_version": "1.2.0",
          "state": {
            "_model_module": "@jupyter-widgets/base",
            "_model_module_version": "1.2.0",
            "_model_name": "LayoutModel",
            "_view_count": null,
            "_view_module": "@jupyter-widgets/base",
            "_view_module_version": "1.2.0",
            "_view_name": "LayoutView",
            "align_content": null,
            "align_items": null,
            "align_self": null,
            "border": null,
            "bottom": null,
            "display": null,
            "flex": null,
            "flex_flow": null,
            "grid_area": null,
            "grid_auto_columns": null,
            "grid_auto_flow": null,
            "grid_auto_rows": null,
            "grid_column": null,
            "grid_gap": null,
            "grid_row": null,
            "grid_template_areas": null,
            "grid_template_columns": null,
            "grid_template_rows": null,
            "height": null,
            "justify_content": null,
            "justify_items": null,
            "left": null,
            "margin": null,
            "max_height": null,
            "max_width": null,
            "min_height": null,
            "min_width": null,
            "object_fit": null,
            "object_position": null,
            "order": null,
            "overflow": null,
            "overflow_x": null,
            "overflow_y": null,
            "padding": null,
            "right": null,
            "top": null,
            "visibility": null,
            "width": null
          }
        },
        "4045e73389f34555b65c4f5df52ea324": {
          "model_module": "@jupyter-widgets/controls",
          "model_name": "DescriptionStyleModel",
          "model_module_version": "1.5.0",
          "state": {
            "_model_module": "@jupyter-widgets/controls",
            "_model_module_version": "1.5.0",
            "_model_name": "DescriptionStyleModel",
            "_view_count": null,
            "_view_module": "@jupyter-widgets/base",
            "_view_module_version": "1.2.0",
            "_view_name": "StyleView",
            "description_width": ""
          }
        },
        "0ea7503cb20b43e0a7439f2ec9fb53a0": {
          "model_module": "@jupyter-widgets/base",
          "model_name": "LayoutModel",
          "model_module_version": "1.2.0",
          "state": {
            "_model_module": "@jupyter-widgets/base",
            "_model_module_version": "1.2.0",
            "_model_name": "LayoutModel",
            "_view_count": null,
            "_view_module": "@jupyter-widgets/base",
            "_view_module_version": "1.2.0",
            "_view_name": "LayoutView",
            "align_content": null,
            "align_items": null,
            "align_self": null,
            "border": null,
            "bottom": null,
            "display": null,
            "flex": null,
            "flex_flow": null,
            "grid_area": null,
            "grid_auto_columns": null,
            "grid_auto_flow": null,
            "grid_auto_rows": null,
            "grid_column": null,
            "grid_gap": null,
            "grid_row": null,
            "grid_template_areas": null,
            "grid_template_columns": null,
            "grid_template_rows": null,
            "height": null,
            "justify_content": null,
            "justify_items": null,
            "left": null,
            "margin": null,
            "max_height": null,
            "max_width": null,
            "min_height": null,
            "min_width": null,
            "object_fit": null,
            "object_position": null,
            "order": null,
            "overflow": null,
            "overflow_x": null,
            "overflow_y": null,
            "padding": null,
            "right": null,
            "top": null,
            "visibility": null,
            "width": null
          }
        },
        "0402c090ddc84649b7fddd6cac8399b0": {
          "model_module": "@jupyter-widgets/controls",
          "model_name": "ProgressStyleModel",
          "model_module_version": "1.5.0",
          "state": {
            "_model_module": "@jupyter-widgets/controls",
            "_model_module_version": "1.5.0",
            "_model_name": "ProgressStyleModel",
            "_view_count": null,
            "_view_module": "@jupyter-widgets/base",
            "_view_module_version": "1.2.0",
            "_view_name": "StyleView",
            "bar_color": null,
            "description_width": ""
          }
        },
        "84ae27b1832341c9a7b6f526fa7d91ba": {
          "model_module": "@jupyter-widgets/base",
          "model_name": "LayoutModel",
          "model_module_version": "1.2.0",
          "state": {
            "_model_module": "@jupyter-widgets/base",
            "_model_module_version": "1.2.0",
            "_model_name": "LayoutModel",
            "_view_count": null,
            "_view_module": "@jupyter-widgets/base",
            "_view_module_version": "1.2.0",
            "_view_name": "LayoutView",
            "align_content": null,
            "align_items": null,
            "align_self": null,
            "border": null,
            "bottom": null,
            "display": null,
            "flex": null,
            "flex_flow": null,
            "grid_area": null,
            "grid_auto_columns": null,
            "grid_auto_flow": null,
            "grid_auto_rows": null,
            "grid_column": null,
            "grid_gap": null,
            "grid_row": null,
            "grid_template_areas": null,
            "grid_template_columns": null,
            "grid_template_rows": null,
            "height": null,
            "justify_content": null,
            "justify_items": null,
            "left": null,
            "margin": null,
            "max_height": null,
            "max_width": null,
            "min_height": null,
            "min_width": null,
            "object_fit": null,
            "object_position": null,
            "order": null,
            "overflow": null,
            "overflow_x": null,
            "overflow_y": null,
            "padding": null,
            "right": null,
            "top": null,
            "visibility": null,
            "width": null
          }
        },
        "6a99d3bb54cf40d290e2cce01524fab2": {
          "model_module": "@jupyter-widgets/controls",
          "model_name": "DescriptionStyleModel",
          "model_module_version": "1.5.0",
          "state": {
            "_model_module": "@jupyter-widgets/controls",
            "_model_module_version": "1.5.0",
            "_model_name": "DescriptionStyleModel",
            "_view_count": null,
            "_view_module": "@jupyter-widgets/base",
            "_view_module_version": "1.2.0",
            "_view_name": "StyleView",
            "description_width": ""
          }
        }
      }
    }
  },
  "cells": [
    {
      "cell_type": "markdown",
      "metadata": {
        "id": "view-in-github",
        "colab_type": "text"
      },
      "source": [
        "<a href=\"https://colab.research.google.com/github/niikun/introduction_LLM/blob/main/Logistic_regression_in_pytorch.ipynb\" target=\"_parent\"><img src=\"https://colab.research.google.com/assets/colab-badge.svg\" alt=\"Open In Colab\"/></a>"
      ]
    },
    {
      "cell_type": "markdown",
      "source": [
        "# Introduction to Logistic Regression in PyTorch"
      ],
      "metadata": {
        "id": "yItXXelB2fpO"
      }
    },
    {
      "cell_type": "code",
      "execution_count": 1,
      "metadata": {
        "id": "oxl7bLWT2aRC"
      },
      "outputs": [],
      "source": [
        "%matplotlib inline\n",
        "\n",
        "import numpy as np\n",
        "import matplotlib.pyplot as plt\n",
        "import torch\n",
        "from tqdm.notebook import tqdm"
      ]
    },
    {
      "cell_type": "code",
      "source": [
        "from torchvision import datasets, transforms\n",
        "\n",
        "mnist_train = datasets.MNIST(root=\"./datasets\", train=True, transform=transforms.ToTensor(), download=True)\n",
        "mnist_test = datasets.MNIST(root=\"./datasets\", train=False, transform=transforms.ToTensor(), download=True)"
      ],
      "metadata": {
        "colab": {
          "base_uri": "https://localhost:8080/"
        },
        "id": "8QBUC4Qa21n0",
        "outputId": "62eef353-1ec6-4176-f0c9-1a612ddc3861"
      },
      "execution_count": 2,
      "outputs": [
        {
          "output_type": "stream",
          "name": "stdout",
          "text": [
            "Downloading http://yann.lecun.com/exdb/mnist/train-images-idx3-ubyte.gz\n",
            "Failed to download (trying next):\n",
            "HTTP Error 403: Forbidden\n",
            "\n",
            "Downloading https://ossci-datasets.s3.amazonaws.com/mnist/train-images-idx3-ubyte.gz\n",
            "Downloading https://ossci-datasets.s3.amazonaws.com/mnist/train-images-idx3-ubyte.gz to ./datasets/MNIST/raw/train-images-idx3-ubyte.gz\n"
          ]
        },
        {
          "output_type": "stream",
          "name": "stderr",
          "text": [
            "100%|██████████| 9912422/9912422 [00:00<00:00, 15781067.39it/s]\n"
          ]
        },
        {
          "output_type": "stream",
          "name": "stdout",
          "text": [
            "Extracting ./datasets/MNIST/raw/train-images-idx3-ubyte.gz to ./datasets/MNIST/raw\n",
            "\n",
            "Downloading http://yann.lecun.com/exdb/mnist/train-labels-idx1-ubyte.gz\n",
            "Failed to download (trying next):\n",
            "HTTP Error 403: Forbidden\n",
            "\n",
            "Downloading https://ossci-datasets.s3.amazonaws.com/mnist/train-labels-idx1-ubyte.gz\n",
            "Downloading https://ossci-datasets.s3.amazonaws.com/mnist/train-labels-idx1-ubyte.gz to ./datasets/MNIST/raw/train-labels-idx1-ubyte.gz\n"
          ]
        },
        {
          "output_type": "stream",
          "name": "stderr",
          "text": [
            "100%|██████████| 28881/28881 [00:00<00:00, 547429.26it/s]\n"
          ]
        },
        {
          "output_type": "stream",
          "name": "stdout",
          "text": [
            "Extracting ./datasets/MNIST/raw/train-labels-idx1-ubyte.gz to ./datasets/MNIST/raw\n",
            "\n",
            "Downloading http://yann.lecun.com/exdb/mnist/t10k-images-idx3-ubyte.gz\n",
            "Failed to download (trying next):\n",
            "HTTP Error 403: Forbidden\n",
            "\n",
            "Downloading https://ossci-datasets.s3.amazonaws.com/mnist/t10k-images-idx3-ubyte.gz\n",
            "Downloading https://ossci-datasets.s3.amazonaws.com/mnist/t10k-images-idx3-ubyte.gz to ./datasets/MNIST/raw/t10k-images-idx3-ubyte.gz\n"
          ]
        },
        {
          "output_type": "stream",
          "name": "stderr",
          "text": [
            "100%|██████████| 1648877/1648877 [00:00<00:00, 4430667.80it/s]\n"
          ]
        },
        {
          "output_type": "stream",
          "name": "stdout",
          "text": [
            "Extracting ./datasets/MNIST/raw/t10k-images-idx3-ubyte.gz to ./datasets/MNIST/raw\n",
            "\n",
            "Downloading http://yann.lecun.com/exdb/mnist/t10k-labels-idx1-ubyte.gz\n",
            "Failed to download (trying next):\n",
            "HTTP Error 403: Forbidden\n",
            "\n",
            "Downloading https://ossci-datasets.s3.amazonaws.com/mnist/t10k-labels-idx1-ubyte.gz\n",
            "Downloading https://ossci-datasets.s3.amazonaws.com/mnist/t10k-labels-idx1-ubyte.gz to ./datasets/MNIST/raw/t10k-labels-idx1-ubyte.gz\n"
          ]
        },
        {
          "output_type": "stream",
          "name": "stderr",
          "text": [
            "100%|██████████| 4542/4542 [00:00<00:00, 5901650.80it/s]\n"
          ]
        },
        {
          "output_type": "stream",
          "name": "stdout",
          "text": [
            "Extracting ./datasets/MNIST/raw/t10k-labels-idx1-ubyte.gz to ./datasets/MNIST/raw\n",
            "\n"
          ]
        }
      ]
    },
    {
      "cell_type": "code",
      "source": [
        "print(\"Number of MNIST training examples: {}\".format(len(mnist_train)))\n",
        "print(\"Number of MNIST test examples: {}\".format(len(mnist_test)))"
      ],
      "metadata": {
        "colab": {
          "base_uri": "https://localhost:8080/"
        },
        "id": "blFMY3m4291D",
        "outputId": "9c5d4cff-06d6-4e1e-e5df-180a44bdb82d"
      },
      "execution_count": 3,
      "outputs": [
        {
          "output_type": "stream",
          "name": "stdout",
          "text": [
            "Number of MNIST training examples: 60000\n",
            "Number of MNIST test examples: 10000\n"
          ]
        }
      ]
    },
    {
      "cell_type": "code",
      "source": [
        "for i in range(20):\n",
        "    plt.subplot(4,5,i+1)\n",
        "    plt.imshow(mnist_train[i][0].view(28,28).numpy(),cmap=\"gray\")\n",
        "    plt.title(mnist_train[i][1])\n",
        "    plt.axis(\"off\")\n",
        "plt.subplots_adjust(wspace=0.1, hspace=0.4)\n",
        "plt.show()"
      ],
      "metadata": {
        "colab": {
          "base_uri": "https://localhost:8080/",
          "height": 428
        },
        "id": "5E0XTayX4GY7",
        "outputId": "c3886c4f-b7d8-4a23-87db-ae4ed893bb13"
      },
      "execution_count": 4,
      "outputs": [
        {
          "output_type": "display_data",
          "data": {
            "text/plain": [
              "<Figure size 640x480 with 20 Axes>"
            ],
            "image/png": "[encoded data removed]"
          },
          "metadata": {}
        }
      ]
    },
    {
      "cell_type": "code",
      "source": [
        "train_loader = torch.utils.data.DataLoader(mnist_train, batch_size=100, shuffle=True)\n",
        "test_loader = torch.utils.data.DataLoader(mnist_test, batch_size=100, shuffle=False)"
      ],
      "metadata": {
        "id": "vPQX6kL129yH"
      },
      "execution_count": 5,
      "outputs": []
    },
    {
      "cell_type": "code",
      "source": [
        "data_train_iter = iter(train_loader)\n",
        "images, labels = next(data_train_iter)\n",
        "\n",
        "print(\"Shape of the minibatch of images: {}\".format(images.shape))\n",
        "print(\"Shape of the minibatch of labels: {}\".format(labels.shape))"
      ],
      "metadata": {
        "colab": {
          "base_uri": "https://localhost:8080/"
        },
        "id": "nJ3nzcaf29vF",
        "outputId": "b866c769-abd6-4528-d3ec-512c0de05e94"
      },
      "execution_count": 6,
      "outputs": [
        {
          "output_type": "stream",
          "name": "stdout",
          "text": [
            "Shape of the minibatch of images: torch.Size([100, 1, 28, 28])\n",
            "Shape of the minibatch of labels: torch.Size([100])\n"
          ]
        }
      ]
    },
    {
      "cell_type": "code",
      "source": [
        "X = images.view(-1,28*28)\n",
        "print(\"Shape of the flattened minibatch of images: {}\".format(X.shape))"
      ],
      "metadata": {
        "colab": {
          "base_uri": "https://localhost:8080/"
        },
        "id": "txKIJ3Id29gK",
        "outputId": "22df8f4d-cf2a-4cda-8d48-a8fb94cff077"
      },
      "execution_count": 7,
      "outputs": [
        {
          "output_type": "stream",
          "name": "stdout",
          "text": [
            "Shape of the flattened minibatch of images: torch.Size([100, 784])\n"
          ]
        }
      ]
    },
    {
      "cell_type": "code",
      "source": [
        "W = torch.randn(784,10)/np.sqrt(784)\n",
        "W.requires_grad_()\n",
        "\n",
        "b = torch.zeros(10,requires_grad=True)"
      ],
      "metadata": {
        "id": "W-NWS-8z8KgI"
      },
      "execution_count": 8,
      "outputs": []
    },
    {
      "cell_type": "code",
      "source": [
        "W.shape,b.shape"
      ],
      "metadata": {
        "colab": {
          "base_uri": "https://localhost:8080/"
        },
        "id": "fFzzHlcp8vLu",
        "outputId": "906f225e-21a6-442c-f0a9-fb173703d1a0"
      },
      "execution_count": 9,
      "outputs": [
        {
          "output_type": "execute_result",
          "data": {
            "text/plain": [
              "(torch.Size([784, 10]), torch.Size([10]))"
            ]
          },
          "metadata": {},
          "execution_count": 9
        }
      ]
    },
    {
      "cell_type": "code",
      "source": [
        "y = torch.matmul(X,W)+b\n",
        "y"
      ],
      "metadata": {
        "colab": {
          "base_uri": "https://localhost:8080/"
        },
        "id": "OzkXubHI82EP",
        "outputId": "25de7fc7-97f1-46a1-d315-051cbfb6ae2b"
      },
      "execution_count": 10,
      "outputs": [
        {
          "output_type": "execute_result",
          "data": {
            "text/plain": [
              "tensor([[ 0.0118, -0.3032, -0.4778,  0.1470, -0.3362, -0.4827, -0.3633,  0.3613,\n",
              "         -0.2652,  0.1079],\n",
              "        [ 0.2945, -0.0987,  0.1016, -0.1387, -0.0555, -0.3897, -0.0509,  0.3451,\n",
              "          0.3117,  0.2234],\n",
              "        [ 0.1111,  0.0860, -0.0144,  0.1385, -0.3551,  0.1320, -0.4102,  0.2758,\n",
              "          0.2994, -0.2487],\n",
              "        [ 0.1252,  0.2251, -0.2453, -0.4163, -0.3675, -0.5122, -0.2326,  0.4005,\n",
              "          0.2935,  0.1124],\n",
              "        [-0.1834, -0.1673, -0.6237, -0.0847, -0.4925, -0.5204, -0.6781,  0.5554,\n",
              "         -0.0276, -0.0714],\n",
              "        [ 0.2713,  0.2511, -0.7535,  0.2595, -0.0698, -0.5532, -0.3505,  0.1523,\n",
              "          0.4038, -0.1395],\n",
              "        [ 0.1094, -0.0697, -0.5558,  0.1657,  0.0135,  0.0661,  0.0406,  0.1331,\n",
              "          0.1158, -0.0788],\n",
              "        [ 0.1808, -0.2274,  0.0166, -0.0847, -0.3555, -0.1056,  0.0065,  0.1718,\n",
              "          0.3657,  0.4077],\n",
              "        [-0.1496, -0.1332, -0.2893,  0.3738, -0.2928, -0.2444, -0.3011,  0.0744,\n",
              "         -0.1752,  0.0246],\n",
              "        [-0.1333, -0.2514, -0.4412,  0.3620, -0.3851,  0.0611, -0.3946, -0.0289,\n",
              "         -0.1519, -0.3327],\n",
              "        [ 0.2991,  0.2473,  0.3453,  0.1022, -0.1126,  0.0229, -0.1002,  0.1994,\n",
              "          0.1631, -0.3867],\n",
              "        [ 0.0755, -0.4165, -0.2478, -0.2355, -0.7118, -0.6112, -0.4252,  0.5442,\n",
              "          0.1546,  0.3623],\n",
              "        [ 0.0578,  0.0925, -0.0491,  0.2907, -0.4226, -0.0342, -0.6254,  0.4019,\n",
              "         -0.3045,  0.0121],\n",
              "        [ 0.0929,  0.0941, -0.4866,  0.1492, -0.4441, -0.0896, -0.7355,  0.0202,\n",
              "          0.0955, -0.0101],\n",
              "        [-0.0603, -0.3451, -0.4125,  0.4543, -0.3024, -0.1571, -0.3623,  0.3439,\n",
              "          0.2026,  0.0644],\n",
              "        [-0.0021,  0.1364, -0.4207,  0.2478, -0.4245,  0.2050, -0.5508,  0.3243,\n",
              "         -0.2320,  0.0309],\n",
              "        [ 0.2119, -0.4811, -0.0567,  0.5486, -0.4031, -0.2508, -0.4764,  0.4481,\n",
              "         -0.2278,  0.0428],\n",
              "        [ 0.1770, -0.1518, -0.5028, -0.3429, -0.1971, -0.0700, -0.0915, -0.0524,\n",
              "          0.2878,  0.0816],\n",
              "        [ 0.2264, -0.4924,  0.0176,  0.1337, -0.4711, -0.0440, -0.5483, -0.2326,\n",
              "         -0.1058,  0.1540],\n",
              "        [ 0.3724, -0.4428,  0.2442,  0.2760, -0.2725, -0.1085, -0.2493,  0.4375,\n",
              "          0.1067, -0.2736],\n",
              "        [-0.2337, -0.2162, -0.4675, -0.0848, -0.0260, -0.1246,  0.0551, -0.0495,\n",
              "         -0.1613,  0.0876],\n",
              "        [ 0.0637,  0.0654, -0.0807, -0.0067, -0.4070,  0.1446, -0.7407,  0.0213,\n",
              "         -0.0815, -0.8010],\n",
              "        [ 0.3734, -0.0129, -0.1079, -0.4979, -0.0815, -0.4353,  0.0384,  0.3548,\n",
              "          0.6304,  0.3137],\n",
              "        [ 0.1802, -0.3246, -0.2381,  0.1376, -0.4368, -0.3462, -0.7645, -0.1297,\n",
              "         -0.2035, -0.0683],\n",
              "        [ 0.0850, -0.0499, -0.0888,  0.1860,  0.5294, -0.1098,  0.0942, -0.3087,\n",
              "          0.3045,  0.4438],\n",
              "        [-0.0263,  0.1744, -0.0480,  0.0395, -0.4676, -0.2387, -0.0870,  0.1534,\n",
              "         -0.2038,  0.0652],\n",
              "        [-0.2241, -0.2328,  0.0849,  0.0540,  0.0136, -0.4372, -0.2294,  0.1089,\n",
              "          0.7387, -0.0745],\n",
              "        [ 0.1720,  0.0200, -0.0637,  0.2103, -0.4455, -0.3750, -0.5163, -0.1349,\n",
              "          0.3430, -0.1323],\n",
              "        [-0.0825, -0.2003, -0.4529,  0.1693, -0.0697, -0.4531, -0.1559, -0.1492,\n",
              "          0.1936,  0.0255],\n",
              "        [ 0.2028,  0.1059, -0.8506,  0.1442,  0.0769, -0.3123, -0.1815,  0.2333,\n",
              "          0.0293,  0.5510],\n",
              "        [ 0.4986, -0.1435, -0.1387, -0.0155, -0.0728, -0.4290,  0.0559,  0.3007,\n",
              "          0.2606,  0.0693],\n",
              "        [-0.1603, -0.4276, -0.4953, -0.0478, -0.0533, -0.2152, -0.7028,  0.1303,\n",
              "          0.0577, -0.0240],\n",
              "        [ 0.1176, -0.1976, -0.7903,  0.3513, -0.4616,  0.0786, -0.3383,  0.1920,\n",
              "         -0.0448,  0.2843],\n",
              "        [ 0.1468, -0.2747, -0.0499,  0.2259, -0.1223, -0.0698, -0.1134,  0.5296,\n",
              "          0.2520,  0.3585],\n",
              "        [ 0.3247,  0.0523, -0.1248,  0.0357, -0.1483, -0.4380, -0.0424,  0.5032,\n",
              "          0.3436, -0.1206],\n",
              "        [ 0.2907,  0.3376,  0.3230, -0.2908, -0.2497, -0.3113, -0.1327, -0.0269,\n",
              "          0.0888, -0.2743],\n",
              "        [ 0.3030,  0.4508, -0.0735,  0.0187, -0.0208, -0.2342, -0.0349,  0.3308,\n",
              "          0.2075, -0.1226],\n",
              "        [ 0.5498,  0.1180,  0.3598,  0.2804, -0.1478, -0.1935, -0.5681,  0.0618,\n",
              "          0.1522, -0.4762],\n",
              "        [ 0.1095, -0.2284, -0.1573,  0.4257, -0.3677, -0.1579, -0.4170, -0.0487,\n",
              "         -0.0416,  0.4525],\n",
              "        [-0.2221, -0.0382, -0.1631,  0.2497,  0.0256,  0.2254,  0.1609,  0.1162,\n",
              "          0.6018, -0.2166],\n",
              "        [ 0.2826,  0.3630, -0.1872,  0.0307, -0.2593,  0.0258, -0.0497, -0.5157,\n",
              "          0.1592,  0.2385],\n",
              "        [-0.2514, -0.8605, -0.6274, -0.0293, -0.5046, -0.5649, -0.7599,  0.4000,\n",
              "         -0.1164, -0.0085],\n",
              "        [ 0.1632, -0.2616, -0.0668,  0.1828, -0.2895, -0.2603, -0.1827,  0.4933,\n",
              "          0.0625, -0.2128],\n",
              "        [-0.0562, -0.1616, -0.0451, -0.0037, -0.4572, -0.2868, -0.2248, -0.0642,\n",
              "          0.2435,  0.2415],\n",
              "        [ 0.0222,  0.2613, -0.6518,  0.4699, -0.5949, -0.2257, -0.2120,  0.1899,\n",
              "          0.1159, -0.3923],\n",
              "        [ 0.0376,  0.1749, -0.2638,  0.5410, -0.2891, -0.0782, -0.0700, -0.1427,\n",
              "          0.0930, -0.1906],\n",
              "        [-0.3753, -0.8253, -0.0614,  0.5131, -0.2544, -0.0650, -0.3409,  0.4026,\n",
              "          0.2294, -0.3924],\n",
              "        [-0.0657, -0.0219, -0.2184,  0.1147,  0.0229,  0.1638,  0.3582,  0.3270,\n",
              "         -0.1200, -0.8151],\n",
              "        [ 0.1353,  0.1799,  0.1218, -0.1754, -0.1425, -0.2373, -0.0588, -0.0877,\n",
              "          0.0936, -0.1053],\n",
              "        [ 0.6367,  0.3321, -0.0223,  0.2382, -0.1987, -0.2695, -0.3177,  0.1442,\n",
              "          0.0462, -0.0846],\n",
              "        [ 0.4555, -0.0226, -0.2643, -0.3937, -0.1751, -0.4531, -0.1656,  0.4006,\n",
              "          0.5708,  0.0619],\n",
              "        [ 0.1527, -0.3078, -0.1191, -0.3359, -0.4772,  0.0952,  0.0891,  0.4578,\n",
              "          0.1822, -0.1352],\n",
              "        [ 0.1468, -0.1512, -0.1264, -0.1456,  0.0527, -0.0336,  0.0777, -0.1811,\n",
              "          0.1567,  0.4813],\n",
              "        [-0.2818, -0.3641, -0.3447,  0.2648, -0.1945, -0.2625, -0.0032, -0.3733,\n",
              "          0.1815, -0.0035],\n",
              "        [ 0.3650,  0.1351,  0.0955, -0.0547, -0.0373, -0.0799, -0.1602,  0.2117,\n",
              "          0.3609, -0.3703],\n",
              "        [ 0.7442, -0.1270,  0.4087,  0.0770,  0.0588, -0.3968, -0.1167,  0.1437,\n",
              "          0.1769,  0.2718],\n",
              "        [ 0.0561, -0.5803,  0.1695,  0.0783, -0.0891,  0.2794,  0.6618,  0.1764,\n",
              "          0.4631,  0.1489],\n",
              "        [ 0.3809,  0.1201, -0.2142,  0.1324, -0.1248, -0.3256,  0.2004,  0.0051,\n",
              "         -0.0361,  0.0942],\n",
              "        [ 0.2464, -0.1829,  0.0017, -0.1489,  0.0469,  0.0220, -0.2222,  0.3486,\n",
              "          0.1215,  0.4207],\n",
              "        [ 0.2463, -0.0305, -0.1514,  0.2126, -0.0281, -0.1776, -0.3692,  0.1168,\n",
              "          0.0661, -0.0811],\n",
              "        [ 0.0118, -0.1327, -0.0255,  0.0920, -0.1032,  0.1236,  0.0691,  0.3614,\n",
              "          0.3394, -0.2213],\n",
              "        [ 0.1331,  0.0073, -0.0665,  0.3042, -0.2231, -0.5694, -0.3523,  0.1407,\n",
              "          0.3464,  0.3662],\n",
              "        [ 0.3420, -0.0461, -0.6370,  0.2868, -0.3427, -0.1894, -0.1994,  0.2133,\n",
              "          0.0473,  0.5400],\n",
              "        [ 0.3103,  0.0735,  0.1036,  0.2476, -0.0678, -0.2221, -0.0287,  0.0217,\n",
              "          0.3410,  0.3148],\n",
              "        [ 0.1278,  0.1625,  0.0345,  0.0902, -0.5237, -0.1218, -0.3196, -0.2040,\n",
              "          0.4181,  0.2094],\n",
              "        [ 0.4883, -0.1843,  0.4037,  0.1972, -0.1863, -0.2776, -0.3833,  0.1541,\n",
              "          0.5884, -0.1657],\n",
              "        [ 0.4676,  0.0698, -0.3616,  0.0309, -0.2961, -0.3546, -0.3563, -0.0370,\n",
              "         -0.1846, -0.0448],\n",
              "        [ 0.2786, -0.0480, -0.3482, -0.0143, -0.2556, -0.1330, -0.0786,  0.0268,\n",
              "          0.0869,  0.1469],\n",
              "        [ 0.4307, -0.0019, -0.3132,  0.4960, -0.3312,  0.1571, -0.3161, -0.0717,\n",
              "          0.2732,  0.0856],\n",
              "        [-0.4770, -0.0882, -0.4299, -0.2467, -0.4787, -0.6027, -0.8562,  0.1538,\n",
              "          0.0688,  0.0956],\n",
              "        [-0.0491, -0.8061, -0.0718,  0.0931, -0.5009, -0.2736, -0.3349,  0.2848,\n",
              "          0.1218,  0.1172],\n",
              "        [ 0.7858, -0.2403,  0.2947,  0.3942, -0.1264,  0.0054,  0.0218,  0.7164,\n",
              "          0.2613, -0.0982],\n",
              "        [ 0.2768, -0.1904, -0.1043, -0.0447, -0.6060, -0.0511, -0.3587, -0.2063,\n",
              "          0.0338,  0.4429],\n",
              "        [ 0.3435,  0.2754,  0.3076,  0.1308,  0.0093, -0.7486, -0.2993, -0.2240,\n",
              "          0.2685, -0.3102],\n",
              "        [ 0.2024,  0.0779,  0.0355,  0.0051, -0.1131, -0.0488, -0.0099,  0.0610,\n",
              "          0.3029, -0.4027],\n",
              "        [ 0.4539,  0.6190, -0.0203,  0.0037, -0.3942,  0.0238, -0.8024, -0.0812,\n",
              "         -0.0243, -0.1766],\n",
              "        [ 0.3259, -0.4978, -0.0832,  0.0223,  0.2662, -0.1205, -0.2453,  0.1678,\n",
              "          0.2280,  0.6576],\n",
              "        [ 0.2098,  0.4866, -0.0478, -0.0459, -0.2867,  0.4028, -0.5632, -0.0583,\n",
              "         -0.0144, -0.7240],\n",
              "        [ 0.3603,  0.2292, -0.0942, -0.0852, -0.2893, -0.0330, -0.3226, -0.2456,\n",
              "         -0.0630, -0.4345],\n",
              "        [-0.0170,  0.1319, -0.2587,  0.4813, -0.3741, -0.0109, -0.2725, -0.2345,\n",
              "          0.1247,  0.0060],\n",
              "        [ 0.4941, -0.2614, -0.0727,  0.0699, -0.3505, -0.1536,  0.0610,  0.2500,\n",
              "          0.3877,  0.2584],\n",
              "        [-0.1742, -0.3730, -0.4115,  0.3029, -0.3451, -0.2422, -0.2294,  0.7960,\n",
              "          0.0358,  0.0459],\n",
              "        [ 0.4838, -0.2105, -0.2105,  0.2600, -0.3857,  0.0391, -0.0051,  0.1062,\n",
              "          0.4163,  0.1134],\n",
              "        [ 0.2472,  0.4288, -0.0694, -0.3106, -0.6870, -0.4008, -0.8304, -0.0661,\n",
              "         -0.2257, -0.2709],\n",
              "        [ 0.4241, -0.0692, -0.1225, -0.0434, -0.3363, -0.4338, -0.0425,  0.1375,\n",
              "          0.2311,  0.4705],\n",
              "        [ 0.4964,  0.4079, -0.1014, -0.3380, -0.2269,  0.0258, -0.0565, -0.1766,\n",
              "          0.3857,  0.1962],\n",
              "        [ 0.0492,  0.1071, -0.1169,  0.0689, -0.0650, -0.1331, -0.4006, -0.0332,\n",
              "          0.2922, -0.5136],\n",
              "        [-0.2775, -0.2533, -0.0178,  0.1324, -0.5643,  0.1621, -0.1669, -0.2532,\n",
              "         -0.1639,  0.2679],\n",
              "        [ 0.2503,  0.0041,  0.2652,  0.1989, -0.4574, -0.0346, -0.6153,  0.3628,\n",
              "          0.1439, -0.2671],\n",
              "        [ 0.3295,  0.3514, -0.1645,  0.1202, -0.0566, -0.2293, -0.6787, -0.0460,\n",
              "          0.0089,  0.0495],\n",
              "        [ 0.0560,  0.3329, -0.0859, -0.3579, -0.3510, -0.2468, -0.5131, -0.0872,\n",
              "          0.1412, -0.6065],\n",
              "        [ 0.1430,  0.6524, -0.4495,  0.4588, -0.1509, -0.1034, -0.4414,  0.6068,\n",
              "         -0.0171, -0.3093],\n",
              "        [-0.0014,  0.0725, -0.1685, -0.0760, -0.6224, -0.3796, -0.5149,  0.3341,\n",
              "          0.0392,  0.0932],\n",
              "        [ 0.0480, -0.0331, -0.3729,  0.0838, -0.2592, -0.1725,  0.1162,  0.5222,\n",
              "          0.1276,  0.1901],\n",
              "        [-0.0527,  0.1407, -0.3855,  0.0731, -0.0620,  0.1431, -0.2996,  0.0086,\n",
              "          0.0500, -0.2259],\n",
              "        [-0.1070, -0.0839, -0.6169, -0.0938, -0.5162, -0.1150, -0.4787,  0.0157,\n",
              "          0.0308,  0.2925],\n",
              "        [ 0.3354, -0.0127,  0.2072,  0.1015, -0.1555,  0.0257, -0.1651,  0.2356,\n",
              "          0.2264, -0.4045],\n",
              "        [ 0.2450, -0.2011, -0.1676, -0.0085, -0.4830,  0.0983,  0.2368,  0.5621,\n",
              "          0.3936,  0.3039],\n",
              "        [ 0.2890,  0.3715, -0.3020, -0.3936,  0.0221, -0.1055, -0.4201,  0.0345,\n",
              "          0.2053, -0.3061],\n",
              "        [ 0.4132,  0.2108, -0.4125,  0.1513, -0.2049, -0.1096,  0.0701,  0.2794,\n",
              "         -0.0038,  0.1174]], grad_fn=<AddBackward0>)"
            ]
          },
          "metadata": {},
          "execution_count": 10
        }
      ]
    },
    {
      "cell_type": "code",
      "source": [
        "py_eq = torch.exp(y)/torch.exp(y).sum(dim=1,keepdim=True)\n",
        "py_eq[0,:]"
      ],
      "metadata": {
        "colab": {
          "base_uri": "https://localhost:8080/"
        },
        "id": "2wRIp87H9GvW",
        "outputId": "b42b4765-4843-4f6d-90f2-de6f736bab37"
      },
      "execution_count": 11,
      "outputs": [
        {
          "output_type": "execute_result",
          "data": {
            "text/plain": [
              "tensor([0.1141, 0.0832, 0.0699, 0.1306, 0.0805, 0.0696, 0.0784, 0.1618, 0.0865,\n",
              "        0.1256], grad_fn=<SliceBackward0>)"
            ]
          },
          "metadata": {},
          "execution_count": 11
        }
      ]
    },
    {
      "cell_type": "code",
      "source": [
        "import torch.nn.functional as F\n",
        "py = F.softmax(y,dim=1)\n",
        "py[0,:]"
      ],
      "metadata": {
        "colab": {
          "base_uri": "https://localhost:8080/"
        },
        "id": "_jX9ZZC6946v",
        "outputId": "f6c9e8c2-0db9-4e68-d10a-43147904d94c"
      },
      "execution_count": 12,
      "outputs": [
        {
          "output_type": "execute_result",
          "data": {
            "text/plain": [
              "tensor([0.1141, 0.0832, 0.0699, 0.1306, 0.0805, 0.0696, 0.0784, 0.1618, 0.0865,\n",
              "        0.1256], grad_fn=<SliceBackward0>)"
            ]
          },
          "metadata": {},
          "execution_count": 12
        }
      ]
    },
    {
      "cell_type": "code",
      "source": [
        "print(labels.shape)"
      ],
      "metadata": {
        "colab": {
          "base_uri": "https://localhost:8080/"
        },
        "id": "eAOpnhgG-H_0",
        "outputId": "cda65b77-652a-4d75-b46e-2a7b6f35afbc"
      },
      "execution_count": 13,
      "outputs": [
        {
          "output_type": "stream",
          "name": "stdout",
          "text": [
            "torch.Size([100])\n"
          ]
        }
      ]
    },
    {
      "cell_type": "code",
      "source": [
        "cross_entropy_eq = torch.mean(-torch.log(py_eq)[range(labels.shape[0]),labels])\n",
        "cross_entropy_eq"
      ],
      "metadata": {
        "colab": {
          "base_uri": "https://localhost:8080/"
        },
        "id": "g_Y63Zik-qtT",
        "outputId": "24a4a423-149c-4e03-9327-0bff2f2c7f4e"
      },
      "execution_count": 14,
      "outputs": [
        {
          "output_type": "execute_result",
          "data": {
            "text/plain": [
              "tensor(2.2207, grad_fn=<MeanBackward0>)"
            ]
          },
          "metadata": {},
          "execution_count": 14
        }
      ]
    },
    {
      "cell_type": "code",
      "source": [
        "cross_entropy = F.cross_entropy(y,labels)\n",
        "cross_entropy"
      ],
      "metadata": {
        "colab": {
          "base_uri": "https://localhost:8080/"
        },
        "id": "o8FeaUZh_EDd",
        "outputId": "82723a48-55ca-4285-8304-10a889ecf922"
      },
      "execution_count": 15,
      "outputs": [
        {
          "output_type": "execute_result",
          "data": {
            "text/plain": [
              "tensor(2.2207, grad_fn=<NllLossBackward0>)"
            ]
          },
          "metadata": {},
          "execution_count": 15
        }
      ]
    },
    {
      "cell_type": "code",
      "source": [
        "optimizer = torch.optim.SGD([W,b],lr=0.1)"
      ],
      "metadata": {
        "id": "Y9RKKbex_Z5H"
      },
      "execution_count": 16,
      "outputs": []
    },
    {
      "cell_type": "code",
      "source": [
        "cross_entropy.backward()"
      ],
      "metadata": {
        "id": "3s9j8E4n_nNV"
      },
      "execution_count": 17,
      "outputs": []
    },
    {
      "cell_type": "code",
      "source": [
        "W.grad"
      ],
      "metadata": {
        "colab": {
          "base_uri": "https://localhost:8080/"
        },
        "id": "qw2GW0Iq_wAP",
        "outputId": "86b8f9ca-2dcf-42d2-a961-96805910e9e5"
      },
      "execution_count": 18,
      "outputs": [
        {
          "output_type": "execute_result",
          "data": {
            "text/plain": [
              "tensor([[0., 0., 0.,  ..., 0., 0., 0.],\n",
              "        [0., 0., 0.,  ..., 0., 0., 0.],\n",
              "        [0., 0., 0.,  ..., 0., 0., 0.],\n",
              "        ...,\n",
              "        [0., 0., 0.,  ..., 0., 0., 0.],\n",
              "        [0., 0., 0.,  ..., 0., 0., 0.],\n",
              "        [0., 0., 0.,  ..., 0., 0., 0.]])"
            ]
          },
          "metadata": {},
          "execution_count": 18
        }
      ]
    },
    {
      "cell_type": "code",
      "source": [
        "b.grad"
      ],
      "metadata": {
        "colab": {
          "base_uri": "https://localhost:8080/"
        },
        "id": "TVdoggZT_rdB",
        "outputId": "0d31c3db-d2a7-4bd4-ccf1-bcf4c5728f64"
      },
      "execution_count": 19,
      "outputs": [
        {
          "output_type": "execute_result",
          "data": {
            "text/plain": [
              "tensor([ 1.9386e-02, -6.7495e-04,  2.6825e-02,  2.1197e-02, -2.0948e-02,\n",
              "        -3.3682e-02, -8.8107e-05, -1.8457e-03, -3.3487e-02,  2.3317e-02])"
            ]
          },
          "metadata": {},
          "execution_count": 19
        }
      ]
    },
    {
      "cell_type": "code",
      "source": [
        "optimizer.step()"
      ],
      "metadata": {
        "id": "AdzscuaC_uaD"
      },
      "execution_count": 20,
      "outputs": []
    },
    {
      "cell_type": "code",
      "source": [
        "W.grad"
      ],
      "metadata": {
        "colab": {
          "base_uri": "https://localhost:8080/"
        },
        "id": "TqTMeHeo_4_-",
        "outputId": "6a4202a4-5922-4aba-917b-c5c6fff65e33"
      },
      "execution_count": 21,
      "outputs": [
        {
          "output_type": "execute_result",
          "data": {
            "text/plain": [
              "tensor([[0., 0., 0.,  ..., 0., 0., 0.],\n",
              "        [0., 0., 0.,  ..., 0., 0., 0.],\n",
              "        [0., 0., 0.,  ..., 0., 0., 0.],\n",
              "        ...,\n",
              "        [0., 0., 0.,  ..., 0., 0., 0.],\n",
              "        [0., 0., 0.,  ..., 0., 0., 0.],\n",
              "        [0., 0., 0.,  ..., 0., 0., 0.]])"
            ]
          },
          "metadata": {},
          "execution_count": 21
        }
      ]
    },
    {
      "cell_type": "code",
      "source": [
        "# Iterate through train set minibatchs\n",
        "for images, labels in tqdm(train_loader):\n",
        "    # Zero out the gradients\n",
        "    optimizer.zero_grad()\n",
        "\n",
        "    # Forward pass\n",
        "    x = images.view(-1, 28*28)\n",
        "    y = torch.matmul(x, W) + b\n",
        "    cross_entropy = F.cross_entropy(y, labels)\n",
        "    # Backward pass\n",
        "    cross_entropy.backward()\n",
        "    optimizer.step()"
      ],
      "metadata": {
        "colab": {
          "base_uri": "https://localhost:8080/",
          "height": 49,
          "referenced_widgets": [
            "69d84cbf97a34a839780d2722245d1f2",
            "cba0c9fcb46e4d249d2ea154fc1df671",
            "f8312138a0e94c388f7b51329b8f3651",
            "3f0e5984405d40b09d48e61acc51fb06",
            "d31085300b9348b6908dcc941448c8b5",
            "eb173bc210e54cea88c6c4770d6aa08a",
            "869983650a8a41c9a9939cd7ddeb6faa",
            "99a9914a39da481cb3ba2608ea82c282",
            "2541b9d1363a42eeb80f6c8ffce9ace5",
            "a09c9c8406004c2c869058ca8222c643",
            "556e2a46fbc14dc1958ec7e0dc4387cb"
          ]
        },
        "id": "pi5eBykiAEBt",
        "outputId": "3e0f47ce-7fa5-4243-a670-002a91dda8d0"
      },
      "execution_count": 23,
      "outputs": [
        {
          "output_type": "display_data",
          "data": {
            "text/plain": [
              "  0%|          | 0/600 [00:00<?, ?it/s]"
            ],
            "application/vnd.jupyter.widget-view+json": {
              "version_major": 2,
              "version_minor": 0,
              "model_id": "69d84cbf97a34a839780d2722245d1f2"
            }
          },
          "metadata": {}
        }
      ]
    },
    {
      "cell_type": "code",
      "source": [
        "correct = 0\n",
        "total = len(mnist_test)\n",
        "\n",
        "with torch.no_grad():\n",
        "    # Iterate through test set minibatchs\n",
        "    for images, labels in tqdm(test_loader):\n",
        "        # Forward pass\n",
        "        x = images.view(-1, 28*28)\n",
        "        y = torch.matmul(x, W) + b\n",
        "\n",
        "        predictions = torch.argmax(y, dim=1)\n",
        "        correct += torch.sum((predictions == labels).float())\n",
        "\n",
        "print('Test accuracy: {}'.format(correct/total))"
      ],
      "metadata": {
        "colab": {
          "base_uri": "https://localhost:8080/",
          "height": 67,
          "referenced_widgets": [
            "020c4eae7af54ae6a3e00d12c57a478e",
            "18dc0505aa6847d7969bb24a7cb91eee",
            "65a445014ee04729b66c09d3000e50c0",
            "99f089bb4f9b4cd69329792847294947",
            "7cc5f31558be422a8c20a26d4d0e4b42",
            "587e583fb45c4b21813917324f954e0a",
            "49be49c8edfe4602bdc3ec6ace5e7515",
            "ddead9b5db7245b8bacc5d60ee730e90",
            "b098f9e9e6e2417f8925e5a1debdd69e",
            "ac09249582e94d35a1f43029c277ea77",
            "87dfff3d0ebd4d84a60785b3b83e34c7"
          ]
        },
        "id": "e9pc9K2_AE-p",
        "outputId": "05d8493a-43f5-40ac-a444-dea579591a24"
      },
      "execution_count": 24,
      "outputs": [
        {
          "output_type": "display_data",
          "data": {
            "text/plain": [
              "  0%|          | 0/100 [00:00<?, ?it/s]"
            ],
            "application/vnd.jupyter.widget-view+json": {
              "version_major": 2,
              "version_minor": 0,
              "model_id": "020c4eae7af54ae6a3e00d12c57a478e"
            }
          },
          "metadata": {}
        },
        {
          "output_type": "stream",
          "name": "stdout",
          "text": [
            "Test accuracy: 0.9023000001907349\n"
          ]
        }
      ]
    },
    {
      "cell_type": "code",
      "source": [
        "# Get weights\n",
        "fig, ax = plt.subplots(1, 10, figsize=(20, 2))\n",
        "\n",
        "for digit in range(10):\n",
        "    ax[digit].imshow(W[:,digit].detach().view(28,28), cmap='gray')"
      ],
      "metadata": {
        "colab": {
          "base_uri": "https://localhost:8080/",
          "height": 106
        },
        "id": "1BTt1v-QAQt0",
        "outputId": "cb79f652-758f-4775-ed04-fec0d18be203"
      },
      "execution_count": 25,
      "outputs": [
        {
          "output_type": "display_data",
          "data": {
            "text/plain": [
              "<Figure size 2000x200 with 10 Axes>"
            ],
            "image/png": "[encoded data removed]"
          },
          "metadata": {}
        }
      ]
    },
    {
      "cell_type": "code",
      "source": [
        "import numpy as np\n",
        "import torch\n",
        "import torch.nn.functional as F\n",
        "from torchvision import datasets, transforms\n",
        "from tqdm.notebook import tqdm\n",
        "\n",
        "# Load the data\n",
        "mnist_train = datasets.MNIST(root=\"./datasets\", train=True, transform=transforms.ToTensor(), download=True)\n",
        "mnist_test = datasets.MNIST(root=\"./datasets\", train=False, transform=transforms.ToTensor(), download=True)\n",
        "train_loader = torch.utils.data.DataLoader(mnist_train, batch_size=100, shuffle=True)\n",
        "test_loader = torch.utils.data.DataLoader(mnist_test, batch_size=100, shuffle=False)\n",
        "\n",
        "W = torch.randn(784,10)/np.sqrt(784)\n",
        "W.requires_grad_()\n",
        "b = torch.zeros(10,requires_grad=True)\n",
        "\n",
        "optimizer = torch.optim.SGD([W,b],lr=0.1)\n",
        "\n",
        "for images,labels in tqdm(train_loader):\n",
        "    optimizer.zero_grad()\n",
        "\n",
        "    x = images.view(-1,28*28)\n",
        "    y = torch.matmul(x,W)+b\n",
        "    cross_entropy = F.cross_entropy(y,labels)\n",
        "    cross_entropy.backward()\n",
        "    optimizer.step()\n",
        "\n",
        "correct = 0\n",
        "total = len(mnist_test)\n",
        "\n",
        "with torch.no_grad():\n",
        "    for images, labels in tqdm(test_loader):\n",
        "        x = images.view(-1,28*28)\n",
        "        y = torch.matmul(x,W)+b\n",
        "\n",
        "        predictions = torch.argmax(y,dim=1)\n",
        "        correct += torch.sum(predictions==labels).float()\n",
        "\n",
        "print(\"Test accuracy: {}\".format(correct/total))\n",
        "\n",
        ""
      ],
      "metadata": {
        "id": "YqzXkrT5AXWi",
        "colab": {
          "base_uri": "https://localhost:8080/",
          "height": 99,
          "referenced_widgets": [
            "9b53617298af4c02901490fe9bd27472",
            "64189be272d944ca86920c0ebf6c6372",
            "cfc00c78f7f849ef958c3cef24ba9e79",
            "c1daf3514b3a4357ac7d8455cf9a3485",
            "333b434bdcda4c62b9416b907dda8c84",
            "60ba5cd557c146e3b08cd38d29d5d33c",
            "b3c6bd9bb4f94daa90af0ac6634364fe",
            "0122315b90d34266a0bbe95d1e06d1fb",
            "0bf29652d55544f59370089cc57c0af3",
            "edbdab71b867447594976dc238ff11f5",
            "df17ab12a5334e52ace8cac3be9433a6",
            "48beba49ece34c5782ec95e2c9a68724",
            "2a20934f9b2a40e79f1fe0c5b8245af4",
            "e4a7adc5d9664106a64a12b9096e1427",
            "4f8d518be1f14c8db7d76646b468ac2f",
            "3e5990fd76e241eba238c32a3cf9ada3",
            "e2b2ede7517c4c8892fb149d9e1502b2",
            "7b2ae893495b41d7b8d6a38f7b593967",
            "469fac143bb14c259f0a83fc0383c643",
            "644f4a0f76854701ac937062a834da5e",
            "ab3c7aae8c7544a8b21c3a528e40f3c7",
            "87acb42c8f8e4695b6ed26dae5882d89"
          ]
        },
        "outputId": "513dc16e-fd93-47ac-b69a-4a7fb14f7a07"
      },
      "execution_count": 27,
      "outputs": [
        {
          "output_type": "display_data",
          "data": {
            "text/plain": [
              "  0%|          | 0/600 [00:00<?, ?it/s]"
            ],
            "application/vnd.jupyter.widget-view+json": {
              "version_major": 2,
              "version_minor": 0,
              "model_id": "9b53617298af4c02901490fe9bd27472"
            }
          },
          "metadata": {}
        },
        {
          "output_type": "display_data",
          "data": {
            "text/plain": [
              "  0%|          | 0/100 [00:00<?, ?it/s]"
            ],
            "application/vnd.jupyter.widget-view+json": {
              "version_major": 2,
              "version_minor": 0,
              "model_id": "48beba49ece34c5782ec95e2c9a68724"
            }
          },
          "metadata": {}
        },
        {
          "output_type": "stream",
          "name": "stdout",
          "text": [
            "Test accuracy: 0.9017999768257141\n"
          ]
        }
      ]
    },
    {
      "cell_type": "code",
      "source": [
        "import numpy as np\n",
        "import torch\n",
        "import torch.nn as nn\n",
        "import torch.nn.functional as F\n",
        "from torchvision import datasets, transforms\n",
        "from tqdm.notebook import tqdm\n",
        "\n",
        "class MNIST_Logistic_Regression(nn.Module):\n",
        "    def __init__(self):\n",
        "        super().__init__()\n",
        "        self.lin = nn.Linear(784, 10)\n",
        "\n",
        "    def forward(self, x):\n",
        "        return self.lin(x)\n",
        "\n",
        "# Load the data\n",
        "mnist_train = datasets.MNIST(root=\"./datasets\", train=True, transform=transforms.ToTensor(), download=True)\n",
        "mnist_test = datasets.MNIST(root=\"./datasets\", train=False, transform=transforms.ToTensor(), download=True)\n",
        "train_loader = torch.utils.data.DataLoader(mnist_train, batch_size=100, shuffle=True)\n",
        "test_loader = torch.utils.data.DataLoader(mnist_test, batch_size=100, shuffle=False)\n",
        "\n",
        "## Training\n",
        "# Instantiate model\n",
        "model = MNIST_Logistic_Regression()\n",
        "\n",
        "# Loss and Optimizer\n",
        "criterion = nn.CrossEntropyLoss()\n",
        "optimizer = torch.optim.SGD(model.parameters(), lr=0.1)\n",
        "\n",
        "# Iterate through train set minibatchs\n",
        "for images, labels in tqdm(train_loader):\n",
        "    # Zero out the gradients\n",
        "    optimizer.zero_grad()\n",
        "\n",
        "    # Forward pass\n",
        "    x = images.view(-1, 28*28)\n",
        "    y = model(x)\n",
        "    loss = criterion(y, labels)\n",
        "    # Backward pass\n",
        "    loss.backward()\n",
        "    optimizer.step()\n",
        "\n",
        "## Testing\n",
        "correct = 0\n",
        "total = len(mnist_test)\n",
        "\n",
        "with torch.no_grad():\n",
        "    # Iterate through test set minibatchs\n",
        "    for images, labels in tqdm(test_loader):\n",
        "        # Forward pass\n",
        "        x = images.view(-1, 28*28)\n",
        "        y = model(x)\n",
        "\n",
        "        predictions = torch.argmax(y, dim=1)\n",
        "        correct += torch.sum((predictions == labels).float())\n",
        "\n",
        "print('Test accuracy: {}'.format(correct/total))"
      ],
      "metadata": {
        "colab": {
          "base_uri": "https://localhost:8080/",
          "height": 99,
          "referenced_widgets": [
            "e700e2d455364dc69626e0420ce92e83",
            "fae1aa2b3f6344dfa28a3bcf0df78698",
            "8f7e74d3931a4f0cac402095dad251ec",
            "ab0e2c11044d43ee94f4c2a180c1661a",
            "efd6fa9bf52a4334a4ab2baf7d678776",
            "759dba77f3b347a48c7683e1a9c862b4",
            "e361765d66d84e50979c51258708b837",
            "1d826265e6e946feb0f68ac2b02bf171",
            "50540452241f40c1ad1b5873c400b366",
            "a4f47793c06a45e6badf27b4cad7fe3e",
            "0a9ed724b1264c0c82a4e00b14c96f68",
            "b4c85a9c72a04d25a0553f0b56750245",
            "f851468c86134056998347b7c59a3cb2",
            "b62d6999f7f04060868b493164ed57d9",
            "f376382ebcfd491892976719ef4ffab1",
            "54cc64425486402d86cf520ee6961044",
            "8c874c61bf024fc7bb32ecabec15b875",
            "4045e73389f34555b65c4f5df52ea324",
            "0ea7503cb20b43e0a7439f2ec9fb53a0",
            "0402c090ddc84649b7fddd6cac8399b0",
            "84ae27b1832341c9a7b6f526fa7d91ba",
            "6a99d3bb54cf40d290e2cce01524fab2"
          ]
        },
        "id": "7XnT9M-Ihh_9",
        "outputId": "699292a3-f97b-4802-d577-d3b27e735c28"
      },
      "execution_count": 28,
      "outputs": [
        {
          "output_type": "display_data",
          "data": {
            "text/plain": [
              "  0%|          | 0/600 [00:00<?, ?it/s]"
            ],
            "application/vnd.jupyter.widget-view+json": {
              "version_major": 2,
              "version_minor": 0,
              "model_id": "e700e2d455364dc69626e0420ce92e83"
            }
          },
          "metadata": {}
        },
        {
          "output_type": "display_data",
          "data": {
            "text/plain": [
              "  0%|          | 0/100 [00:00<?, ?it/s]"
            ],
            "application/vnd.jupyter.widget-view+json": {
              "version_major": 2,
              "version_minor": 0,
              "model_id": "b4c85a9c72a04d25a0553f0b56750245"
            }
          },
          "metadata": {}
        },
        {
          "output_type": "stream",
          "name": "stdout",
          "text": [
            "Test accuracy: 0.9025999903678894\n"
          ]
        }
      ]
    },
    {
      "cell_type": "code",
      "source": [],
      "metadata": {
        "id": "vXmAaCPii52e"
      },
      "execution_count": null,
      "outputs": []
    },
    {
      "cell_type": "code",
      "source": [],
      "metadata": {
        "id": "2tWaHas4i-q4"
      },
      "execution_count": null,
      "outputs": []
    }
  ]
}